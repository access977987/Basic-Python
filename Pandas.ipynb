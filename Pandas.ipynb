{
 "metadata": {
  "language_info": {
   "codemirror_mode": {
    "name": "ipython",
    "version": 3
   },
   "file_extension": ".py",
   "mimetype": "text/x-python",
   "name": "python",
   "nbconvert_exporter": "python",
   "pygments_lexer": "ipython3",
   "version": "3.7.9"
  },
  "orig_nbformat": 4,
  "kernelspec": {
   "name": "python3",
   "display_name": "Python 3.7.9 64-bit"
  },
  "interpreter": {
   "hash": "04635d289a519a1410467dd0afb0db42f9184808881ca68b2eb5a687a20a5a94"
  }
 },
 "nbformat": 4,
 "nbformat_minor": 2,
 "cells": [
  {
   "cell_type": "code",
   "execution_count": 1,
   "metadata": {},
   "outputs": [],
   "source": [
    "import pandas as pd\n",
    "import numpy as np"
   ]
  },
  {
   "cell_type": "code",
   "execution_count": 2,
   "metadata": {},
   "outputs": [
    {
     "output_type": "stream",
     "name": "stdout",
     "text": [
      "0    1.0\n1    3.0\n2    5.0\n3    NaN\n4    6.0\n5    8.0\ndtype: float64\n"
     ]
    },
    {
     "output_type": "execute_result",
     "data": {
      "text/plain": [
       "pandas.core.series.Series"
      ]
     },
     "metadata": {},
     "execution_count": 2
    }
   ],
   "source": [
    "#創建一維陣列\n",
    "s = pd.Series([1, 3, 5, np.nan, 6, 8])\n",
    "print(s)\n",
    "type(s)"
   ]
  },
  {
   "cell_type": "code",
   "execution_count": 3,
   "metadata": {},
   "outputs": [
    {
     "output_type": "execute_result",
     "data": {
      "text/plain": [
       "DatetimeIndex(['2013-01-01', '2013-01-02', '2013-01-03', '2013-01-04',\n",
       "               '2013-01-05', '2013-01-06'],\n",
       "              dtype='datetime64[ns]', freq='D')"
      ]
     },
     "metadata": {},
     "execution_count": 3
    }
   ],
   "source": [
    "#生成日期序列\n",
    "dates = pd.date_range(\"20130101\", periods=6)\n",
    "dates"
   ]
  },
  {
   "cell_type": "code",
   "execution_count": 4,
   "metadata": {},
   "outputs": [
    {
     "output_type": "execute_result",
     "data": {
      "text/plain": [
       "                   A         B         C         D\n",
       "2013-01-01 -0.291917  0.320325 -1.268038 -1.938274\n",
       "2013-01-02  0.883047  0.218971  1.135810 -1.068714\n",
       "2013-01-03  1.354918  0.127837 -0.245875 -0.059740\n",
       "2013-01-04 -0.964754 -0.045375 -2.560684  0.226420\n",
       "2013-01-05 -0.637140 -0.259310  0.584438 -0.018221\n",
       "2013-01-06  0.011957 -1.032789  0.548068 -1.516102"
      ],
      "text/html": "<div>\n<style scoped>\n    .dataframe tbody tr th:only-of-type {\n        vertical-align: middle;\n    }\n\n    .dataframe tbody tr th {\n        vertical-align: top;\n    }\n\n    .dataframe thead th {\n        text-align: right;\n    }\n</style>\n<table border=\"1\" class=\"dataframe\">\n  <thead>\n    <tr style=\"text-align: right;\">\n      <th></th>\n      <th>A</th>\n      <th>B</th>\n      <th>C</th>\n      <th>D</th>\n    </tr>\n  </thead>\n  <tbody>\n    <tr>\n      <th>2013-01-01</th>\n      <td>-0.291917</td>\n      <td>0.320325</td>\n      <td>-1.268038</td>\n      <td>-1.938274</td>\n    </tr>\n    <tr>\n      <th>2013-01-02</th>\n      <td>0.883047</td>\n      <td>0.218971</td>\n      <td>1.135810</td>\n      <td>-1.068714</td>\n    </tr>\n    <tr>\n      <th>2013-01-03</th>\n      <td>1.354918</td>\n      <td>0.127837</td>\n      <td>-0.245875</td>\n      <td>-0.059740</td>\n    </tr>\n    <tr>\n      <th>2013-01-04</th>\n      <td>-0.964754</td>\n      <td>-0.045375</td>\n      <td>-2.560684</td>\n      <td>0.226420</td>\n    </tr>\n    <tr>\n      <th>2013-01-05</th>\n      <td>-0.637140</td>\n      <td>-0.259310</td>\n      <td>0.584438</td>\n      <td>-0.018221</td>\n    </tr>\n    <tr>\n      <th>2013-01-06</th>\n      <td>0.011957</td>\n      <td>-1.032789</td>\n      <td>0.548068</td>\n      <td>-1.516102</td>\n    </tr>\n  </tbody>\n</table>\n</div>"
     },
     "metadata": {},
     "execution_count": 4
    }
   ],
   "source": [
    "#隨機聲稱dataframe\n",
    "df = pd.DataFrame(np.random.randn(6, 4), index=dates, columns=list(\"ABCD\"))\n",
    "df"
   ]
  },
  {
   "cell_type": "code",
   "execution_count": 5,
   "metadata": {},
   "outputs": [
    {
     "output_type": "stream",
     "name": "stdout",
     "text": [
      "     A          B    C  D      E    F\n0  1.0 2013-01-02  1.0  3   test  foo\n1  1.0 2013-01-02  1.0  3  train  foo\n2  1.0 2013-01-02  1.0  3   test  foo\n3  1.0 2013-01-02  1.0  3  train  foo\n"
     ]
    },
    {
     "output_type": "execute_result",
     "data": {
      "text/plain": [
       "A           float64\n",
       "B    datetime64[ns]\n",
       "C           float32\n",
       "D             int32\n",
       "E          category\n",
       "F            object\n",
       "dtype: object"
      ]
     },
     "metadata": {},
     "execution_count": 5
    }
   ],
   "source": [
    "df2 = pd.DataFrame(\n",
    "    {\n",
    "        \"A\": 1.0,\n",
    "        \"B\": pd.Timestamp(\"20130102\"),\n",
    "        \"C\": pd.Series(1, index=list(range(4)), dtype=\"float32\"),\n",
    "        \"D\": np.array([3] * 4, dtype=\"int32\"),\n",
    "        \"E\": pd.Categorical([\"test\", \"train\", \"test\", \"train\"]),\n",
    "        \"F\": \"foo\",\n",
    "    }\n",
    ")\n",
    "\n",
    "print(df2)\n",
    "df2.dtypes"
   ]
  },
  {
   "cell_type": "code",
   "execution_count": 6,
   "metadata": {},
   "outputs": [
    {
     "output_type": "execute_result",
     "data": {
      "text/plain": [
       "Index(['A', 'B', 'C', 'D'], dtype='object')"
      ]
     },
     "metadata": {},
     "execution_count": 6
    }
   ],
   "source": [
    "df.head()\n",
    "df.tail()\n",
    "df.index #抓row name\n",
    "df.columns #抓col name"
   ]
  },
  {
   "cell_type": "code",
   "execution_count": 7,
   "metadata": {},
   "outputs": [
    {
     "output_type": "execute_result",
     "data": {
      "text/plain": [
       "array([[-0.29191722,  0.32032452, -1.26803776, -1.93827391],\n",
       "       [ 0.88304741,  0.21897054,  1.13580955, -1.06871397],\n",
       "       [ 1.35491846,  0.12783695, -0.24587491, -0.0597395 ],\n",
       "       [-0.96475375, -0.04537517, -2.56068381,  0.22642045],\n",
       "       [-0.63713953, -0.25930979,  0.58443804, -0.01822139],\n",
       "       [ 0.01195724, -1.03278871,  0.54806816, -1.51610174]])"
      ]
     },
     "metadata": {},
     "execution_count": 7
    }
   ],
   "source": [
    "# df轉array\n",
    "df.to_numpy()\n",
    "\n",
    "# 注意: 如果df內的col有不同的type，則轉換會很慢沒效率，因為array中都要是同一種type\n",
    "# 注意: does not include the index or column labels in the output."
   ]
  },
  {
   "cell_type": "code",
   "execution_count": 8,
   "metadata": {},
   "outputs": [
    {
     "output_type": "execute_result",
     "data": {
      "text/plain": [
       "              A         B         C         D\n",
       "count  6.000000  6.000000  6.000000  6.000000\n",
       "mean   0.059352 -0.111724 -0.301047 -0.729105\n",
       "std    0.896270  0.495572  1.386630  0.901468\n",
       "min   -0.964754 -1.032789 -2.560684 -1.938274\n",
       "25%   -0.550834 -0.205826 -1.012497 -1.404255\n",
       "50%   -0.139980  0.041231  0.151097 -0.564227\n",
       "75%    0.665275  0.196187  0.575346 -0.028601\n",
       "max    1.354918  0.320325  1.135810  0.226420"
      ],
      "text/html": "<div>\n<style scoped>\n    .dataframe tbody tr th:only-of-type {\n        vertical-align: middle;\n    }\n\n    .dataframe tbody tr th {\n        vertical-align: top;\n    }\n\n    .dataframe thead th {\n        text-align: right;\n    }\n</style>\n<table border=\"1\" class=\"dataframe\">\n  <thead>\n    <tr style=\"text-align: right;\">\n      <th></th>\n      <th>A</th>\n      <th>B</th>\n      <th>C</th>\n      <th>D</th>\n    </tr>\n  </thead>\n  <tbody>\n    <tr>\n      <th>count</th>\n      <td>6.000000</td>\n      <td>6.000000</td>\n      <td>6.000000</td>\n      <td>6.000000</td>\n    </tr>\n    <tr>\n      <th>mean</th>\n      <td>0.059352</td>\n      <td>-0.111724</td>\n      <td>-0.301047</td>\n      <td>-0.729105</td>\n    </tr>\n    <tr>\n      <th>std</th>\n      <td>0.896270</td>\n      <td>0.495572</td>\n      <td>1.386630</td>\n      <td>0.901468</td>\n    </tr>\n    <tr>\n      <th>min</th>\n      <td>-0.964754</td>\n      <td>-1.032789</td>\n      <td>-2.560684</td>\n      <td>-1.938274</td>\n    </tr>\n    <tr>\n      <th>25%</th>\n      <td>-0.550834</td>\n      <td>-0.205826</td>\n      <td>-1.012497</td>\n      <td>-1.404255</td>\n    </tr>\n    <tr>\n      <th>50%</th>\n      <td>-0.139980</td>\n      <td>0.041231</td>\n      <td>0.151097</td>\n      <td>-0.564227</td>\n    </tr>\n    <tr>\n      <th>75%</th>\n      <td>0.665275</td>\n      <td>0.196187</td>\n      <td>0.575346</td>\n      <td>-0.028601</td>\n    </tr>\n    <tr>\n      <th>max</th>\n      <td>1.354918</td>\n      <td>0.320325</td>\n      <td>1.135810</td>\n      <td>0.226420</td>\n    </tr>\n  </tbody>\n</table>\n</div>"
     },
     "metadata": {},
     "execution_count": 8
    }
   ],
   "source": [
    "#Summary the df\n",
    "df.describe()"
   ]
  },
  {
   "cell_type": "code",
   "execution_count": 9,
   "metadata": {},
   "outputs": [
    {
     "output_type": "execute_result",
     "data": {
      "text/plain": [
       "   2013-01-01  2013-01-02  2013-01-03  2013-01-04  2013-01-05  2013-01-06\n",
       "A   -0.291917    0.883047    1.354918   -0.964754   -0.637140    0.011957\n",
       "B    0.320325    0.218971    0.127837   -0.045375   -0.259310   -1.032789\n",
       "C   -1.268038    1.135810   -0.245875   -2.560684    0.584438    0.548068\n",
       "D   -1.938274   -1.068714   -0.059740    0.226420   -0.018221   -1.516102"
      ],
      "text/html": "<div>\n<style scoped>\n    .dataframe tbody tr th:only-of-type {\n        vertical-align: middle;\n    }\n\n    .dataframe tbody tr th {\n        vertical-align: top;\n    }\n\n    .dataframe thead th {\n        text-align: right;\n    }\n</style>\n<table border=\"1\" class=\"dataframe\">\n  <thead>\n    <tr style=\"text-align: right;\">\n      <th></th>\n      <th>2013-01-01</th>\n      <th>2013-01-02</th>\n      <th>2013-01-03</th>\n      <th>2013-01-04</th>\n      <th>2013-01-05</th>\n      <th>2013-01-06</th>\n    </tr>\n  </thead>\n  <tbody>\n    <tr>\n      <th>A</th>\n      <td>-0.291917</td>\n      <td>0.883047</td>\n      <td>1.354918</td>\n      <td>-0.964754</td>\n      <td>-0.637140</td>\n      <td>0.011957</td>\n    </tr>\n    <tr>\n      <th>B</th>\n      <td>0.320325</td>\n      <td>0.218971</td>\n      <td>0.127837</td>\n      <td>-0.045375</td>\n      <td>-0.259310</td>\n      <td>-1.032789</td>\n    </tr>\n    <tr>\n      <th>C</th>\n      <td>-1.268038</td>\n      <td>1.135810</td>\n      <td>-0.245875</td>\n      <td>-2.560684</td>\n      <td>0.584438</td>\n      <td>0.548068</td>\n    </tr>\n    <tr>\n      <th>D</th>\n      <td>-1.938274</td>\n      <td>-1.068714</td>\n      <td>-0.059740</td>\n      <td>0.226420</td>\n      <td>-0.018221</td>\n      <td>-1.516102</td>\n    </tr>\n  </tbody>\n</table>\n</div>"
     },
     "metadata": {},
     "execution_count": 9
    }
   ],
   "source": [
    "#Transpose\n",
    "df.T"
   ]
  },
  {
   "cell_type": "code",
   "execution_count": 10,
   "metadata": {},
   "outputs": [
    {
     "output_type": "error",
     "ename": "NameError",
     "evalue": "name 'ㄎdf' is not defined",
     "traceback": [
      "\u001b[1;31m---------------------------------------------------------------------------\u001b[0m",
      "\u001b[1;31mNameError\u001b[0m                                 Traceback (most recent call last)",
      "\u001b[1;32m~\\AppData\\Local\\Temp/ipykernel_7260/1240806384.py\u001b[0m in \u001b[0;36m<module>\u001b[1;34m\u001b[0m\n\u001b[0;32m      1\u001b[0m \u001b[1;31m#依照index(rownames or colnames)進行排序\u001b[0m\u001b[1;33m\u001b[0m\u001b[1;33m\u001b[0m\u001b[1;33m\u001b[0m\u001b[0m\n\u001b[1;32m----> 2\u001b[1;33m \u001b[0mㄎdf\u001b[0m\u001b[1;33m.\u001b[0m\u001b[0msort_index\u001b[0m\u001b[1;33m(\u001b[0m\u001b[0maxis\u001b[0m\u001b[1;33m=\u001b[0m\u001b[1;36m1\u001b[0m\u001b[1;33m,\u001b[0m \u001b[0mascending\u001b[0m\u001b[1;33m=\u001b[0m\u001b[1;32mFalse\u001b[0m\u001b[1;33m)\u001b[0m \u001b[1;31m#axis=0: 依照rownames, axis=1: 依照colnames\u001b[0m\u001b[1;33m\u001b[0m\u001b[1;33m\u001b[0m\u001b[0m\n\u001b[0m\u001b[0;32m      3\u001b[0m \u001b[1;33m\u001b[0m\u001b[0m\n\u001b[0;32m      4\u001b[0m \u001b[0md\u001b[0m\u001b[1;31m#s依照value進行排序\u001b[0m\u001b[1;33m\u001b[0m\u001b[1;33m\u001b[0m\u001b[0m\n\u001b[0;32m      5\u001b[0m \u001b[0mㄎdf\u001b[0m\u001b[1;33m.\u001b[0m\u001b[0msort_values\u001b[0m\u001b[1;33m(\u001b[0m\u001b[0mby\u001b[0m\u001b[1;33m=\u001b[0m\u001b[1;34m'B'\u001b[0m\u001b[1;33m)\u001b[0m\u001b[1;33m\u001b[0m\u001b[1;33m\u001b[0m\u001b[0m\n",
      "\u001b[1;31mNameError\u001b[0m: name 'ㄎdf' is not defined"
     ]
    }
   ],
   "source": [
    "#依照index(rownames or colnames)進行排序\n",
    "ㄎdf.sort_index(axis=1, ascending=False) #axis=0: 依照rownames, axis=1: 依照colnames\n",
    "\n",
    "d#s依照value進行排序\n",
    "ㄎdf.sort_values(by='B')"
   ]
  },
  {
   "cell_type": "code",
   "execution_count": 11,
   "metadata": {},
   "outputs": [],
   "source": [
    "#Selection"
   ]
  },
  {
   "cell_type": "code",
   "execution_count": 12,
   "metadata": {},
   "outputs": [
    {
     "output_type": "execute_result",
     "data": {
      "text/plain": [
       "2013-01-01   -0.309406\n",
       "2013-01-02    0.937429\n",
       "2013-01-03    0.191623\n",
       "2013-01-04    0.335333\n",
       "2013-01-05   -0.658566\n",
       "2013-01-06   -0.733441\n",
       "Freq: D, Name: A, dtype: float64"
      ]
     },
     "metadata": {},
     "execution_count": 12
    }
   ],
   "source": [
    "# 選擇單一col\n",
    "df['A']"
   ]
  },
  {
   "cell_type": "code",
   "execution_count": 13,
   "metadata": {},
   "outputs": [
    {
     "output_type": "execute_result",
     "data": {
      "text/plain": [
       "                   A         B         C         D\n",
       "2013-01-01 -0.309406 -1.174792  1.204756 -0.637679\n",
       "2013-01-02  0.937429 -0.548068 -1.121792 -1.477492\n",
       "2013-01-03  0.191623 -0.442280  2.126084  1.288772"
      ],
      "text/html": "<div>\n<style scoped>\n    .dataframe tbody tr th:only-of-type {\n        vertical-align: middle;\n    }\n\n    .dataframe tbody tr th {\n        vertical-align: top;\n    }\n\n    .dataframe thead th {\n        text-align: right;\n    }\n</style>\n<table border=\"1\" class=\"dataframe\">\n  <thead>\n    <tr style=\"text-align: right;\">\n      <th></th>\n      <th>A</th>\n      <th>B</th>\n      <th>C</th>\n      <th>D</th>\n    </tr>\n  </thead>\n  <tbody>\n    <tr>\n      <th>2013-01-01</th>\n      <td>-0.309406</td>\n      <td>-1.174792</td>\n      <td>1.204756</td>\n      <td>-0.637679</td>\n    </tr>\n    <tr>\n      <th>2013-01-02</th>\n      <td>0.937429</td>\n      <td>-0.548068</td>\n      <td>-1.121792</td>\n      <td>-1.477492</td>\n    </tr>\n    <tr>\n      <th>2013-01-03</th>\n      <td>0.191623</td>\n      <td>-0.442280</td>\n      <td>2.126084</td>\n      <td>1.288772</td>\n    </tr>\n  </tbody>\n</table>\n</div>"
     },
     "metadata": {},
     "execution_count": 13
    }
   ],
   "source": [
    "#選取指定範圍的row\n",
    "df[0:2] #選取第0、1列，不包含尾段\n",
    "df['2013-01-01':'2013-01-03'] #選取第0、1、2列，包含尾段"
   ]
  },
  {
   "cell_type": "code",
   "execution_count": 14,
   "metadata": {},
   "outputs": [
    {
     "output_type": "execute_result",
     "data": {
      "text/plain": [
       "A   -0.309406\n",
       "B   -1.174792\n",
       "C    1.204756\n",
       "D   -0.637679\n",
       "Name: 2013-01-01 00:00:00, dtype: float64"
      ]
     },
     "metadata": {},
     "execution_count": 14
    }
   ],
   "source": [
    "# 同時篩選col & row，要加上loc\n",
    "\n",
    "#抓出index符合條件的row\n",
    "df.loc[dates[0]]"
   ]
  },
  {
   "cell_type": "code",
   "execution_count": 15,
   "metadata": {},
   "outputs": [
    {
     "output_type": "execute_result",
     "data": {
      "text/plain": [
       "                   A         D\n",
       "2013-01-02  0.937429 -1.477492\n",
       "2013-01-03  0.191623  1.288772\n",
       "2013-01-04  0.335333  0.034442"
      ],
      "text/html": "<div>\n<style scoped>\n    .dataframe tbody tr th:only-of-type {\n        vertical-align: middle;\n    }\n\n    .dataframe tbody tr th {\n        vertical-align: top;\n    }\n\n    .dataframe thead th {\n        text-align: right;\n    }\n</style>\n<table border=\"1\" class=\"dataframe\">\n  <thead>\n    <tr style=\"text-align: right;\">\n      <th></th>\n      <th>A</th>\n      <th>D</th>\n    </tr>\n  </thead>\n  <tbody>\n    <tr>\n      <th>2013-01-02</th>\n      <td>0.937429</td>\n      <td>-1.477492</td>\n    </tr>\n    <tr>\n      <th>2013-01-03</th>\n      <td>0.191623</td>\n      <td>1.288772</td>\n    </tr>\n    <tr>\n      <th>2013-01-04</th>\n      <td>0.335333</td>\n      <td>0.034442</td>\n    </tr>\n  </tbody>\n</table>\n</div>"
     },
     "metadata": {},
     "execution_count": 15
    }
   ],
   "source": [
    "df.loc[:, ['A', 'B']]\n",
    "\n",
    "df.loc[\"20130102\":\"20130104\", [\"A\", \"D\"]]"
   ]
  },
  {
   "cell_type": "code",
   "execution_count": 16,
   "metadata": {},
   "outputs": [
    {
     "output_type": "execute_result",
     "data": {
      "text/plain": [
       "                   B         D\n",
       "2013-01-01 -1.174792 -0.637679\n",
       "2013-01-03 -0.442280  1.288772"
      ],
      "text/html": "<div>\n<style scoped>\n    .dataframe tbody tr th:only-of-type {\n        vertical-align: middle;\n    }\n\n    .dataframe tbody tr th {\n        vertical-align: top;\n    }\n\n    .dataframe thead th {\n        text-align: right;\n    }\n</style>\n<table border=\"1\" class=\"dataframe\">\n  <thead>\n    <tr style=\"text-align: right;\">\n      <th></th>\n      <th>B</th>\n      <th>D</th>\n    </tr>\n  </thead>\n  <tbody>\n    <tr>\n      <th>2013-01-01</th>\n      <td>-1.174792</td>\n      <td>-0.637679</td>\n    </tr>\n    <tr>\n      <th>2013-01-03</th>\n      <td>-0.442280</td>\n      <td>1.288772</td>\n    </tr>\n  </tbody>\n</table>\n</div>"
     },
     "metadata": {},
     "execution_count": 16
    }
   ],
   "source": [
    "# Selecting by position\n",
    "# 用編號選擇row 或 col\n",
    "\n",
    "#選擇row\n",
    "df.iloc[3]\n",
    "\n",
    "#選擇row & col\n",
    "df.iloc[0:2, 2:4]\n",
    "\n",
    "#或用list指定不連續位置\n",
    "df.iloc[[0,2], [1, 3]]"
   ]
  },
  {
   "cell_type": "code",
   "execution_count": 17,
   "metadata": {},
   "outputs": [],
   "source": [
    "# Boolean indexing"
   ]
  },
  {
   "cell_type": "code",
   "execution_count": 18,
   "metadata": {},
   "outputs": [
    {
     "output_type": "execute_result",
     "data": {
      "text/plain": [
       "                   A         B         C         D\n",
       "2013-01-02  0.937429 -0.548068 -1.121792 -1.477492\n",
       "2013-01-03  0.191623 -0.442280  2.126084  1.288772\n",
       "2013-01-04  0.335333 -2.411343  0.934587  0.034442"
      ],
      "text/html": "<div>\n<style scoped>\n    .dataframe tbody tr th:only-of-type {\n        vertical-align: middle;\n    }\n\n    .dataframe tbody tr th {\n        vertical-align: top;\n    }\n\n    .dataframe thead th {\n        text-align: right;\n    }\n</style>\n<table border=\"1\" class=\"dataframe\">\n  <thead>\n    <tr style=\"text-align: right;\">\n      <th></th>\n      <th>A</th>\n      <th>B</th>\n      <th>C</th>\n      <th>D</th>\n    </tr>\n  </thead>\n  <tbody>\n    <tr>\n      <th>2013-01-02</th>\n      <td>0.937429</td>\n      <td>-0.548068</td>\n      <td>-1.121792</td>\n      <td>-1.477492</td>\n    </tr>\n    <tr>\n      <th>2013-01-03</th>\n      <td>0.191623</td>\n      <td>-0.442280</td>\n      <td>2.126084</td>\n      <td>1.288772</td>\n    </tr>\n    <tr>\n      <th>2013-01-04</th>\n      <td>0.335333</td>\n      <td>-2.411343</td>\n      <td>0.934587</td>\n      <td>0.034442</td>\n    </tr>\n  </tbody>\n</table>\n</div>"
     },
     "metadata": {},
     "execution_count": 18
    }
   ],
   "source": [
    "df[df['A']>0]"
   ]
  },
  {
   "cell_type": "code",
   "execution_count": 19,
   "metadata": {},
   "outputs": [
    {
     "output_type": "execute_result",
     "data": {
      "text/plain": [
       "                   A         B         C         D\n",
       "2013-01-01       NaN       NaN  1.204756       NaN\n",
       "2013-01-02  0.937429       NaN       NaN       NaN\n",
       "2013-01-03  0.191623       NaN  2.126084  1.288772\n",
       "2013-01-04  0.335333       NaN  0.934587  0.034442\n",
       "2013-01-05       NaN  0.597898       NaN  0.618307\n",
       "2013-01-06       NaN       NaN       NaN  0.168273"
      ],
      "text/html": "<div>\n<style scoped>\n    .dataframe tbody tr th:only-of-type {\n        vertical-align: middle;\n    }\n\n    .dataframe tbody tr th {\n        vertical-align: top;\n    }\n\n    .dataframe thead th {\n        text-align: right;\n    }\n</style>\n<table border=\"1\" class=\"dataframe\">\n  <thead>\n    <tr style=\"text-align: right;\">\n      <th></th>\n      <th>A</th>\n      <th>B</th>\n      <th>C</th>\n      <th>D</th>\n    </tr>\n  </thead>\n  <tbody>\n    <tr>\n      <th>2013-01-01</th>\n      <td>NaN</td>\n      <td>NaN</td>\n      <td>1.204756</td>\n      <td>NaN</td>\n    </tr>\n    <tr>\n      <th>2013-01-02</th>\n      <td>0.937429</td>\n      <td>NaN</td>\n      <td>NaN</td>\n      <td>NaN</td>\n    </tr>\n    <tr>\n      <th>2013-01-03</th>\n      <td>0.191623</td>\n      <td>NaN</td>\n      <td>2.126084</td>\n      <td>1.288772</td>\n    </tr>\n    <tr>\n      <th>2013-01-04</th>\n      <td>0.335333</td>\n      <td>NaN</td>\n      <td>0.934587</td>\n      <td>0.034442</td>\n    </tr>\n    <tr>\n      <th>2013-01-05</th>\n      <td>NaN</td>\n      <td>0.597898</td>\n      <td>NaN</td>\n      <td>0.618307</td>\n    </tr>\n    <tr>\n      <th>2013-01-06</th>\n      <td>NaN</td>\n      <td>NaN</td>\n      <td>NaN</td>\n      <td>0.168273</td>\n    </tr>\n  </tbody>\n</table>\n</div>"
     },
     "metadata": {},
     "execution_count": 19
    }
   ],
   "source": [
    "df[df>0]"
   ]
  },
  {
   "cell_type": "code",
   "execution_count": 20,
   "metadata": {},
   "outputs": [],
   "source": [
    "# Filter"
   ]
  },
  {
   "cell_type": "code",
   "execution_count": 21,
   "metadata": {},
   "outputs": [
    {
     "output_type": "execute_result",
     "data": {
      "text/plain": [
       "                   A         B         C         D      E\n",
       "2013-01-01 -0.309406 -1.174792  1.204756 -0.637679    one\n",
       "2013-01-02  0.937429 -0.548068 -1.121792 -1.477492    one\n",
       "2013-01-03  0.191623 -0.442280  2.126084  1.288772    two\n",
       "2013-01-04  0.335333 -2.411343  0.934587  0.034442  three\n",
       "2013-01-05 -0.658566  0.597898 -0.174126  0.618307   four\n",
       "2013-01-06 -0.733441 -0.982399 -0.855468  0.168273  three"
      ],
      "text/html": "<div>\n<style scoped>\n    .dataframe tbody tr th:only-of-type {\n        vertical-align: middle;\n    }\n\n    .dataframe tbody tr th {\n        vertical-align: top;\n    }\n\n    .dataframe thead th {\n        text-align: right;\n    }\n</style>\n<table border=\"1\" class=\"dataframe\">\n  <thead>\n    <tr style=\"text-align: right;\">\n      <th></th>\n      <th>A</th>\n      <th>B</th>\n      <th>C</th>\n      <th>D</th>\n      <th>E</th>\n    </tr>\n  </thead>\n  <tbody>\n    <tr>\n      <th>2013-01-01</th>\n      <td>-0.309406</td>\n      <td>-1.174792</td>\n      <td>1.204756</td>\n      <td>-0.637679</td>\n      <td>one</td>\n    </tr>\n    <tr>\n      <th>2013-01-02</th>\n      <td>0.937429</td>\n      <td>-0.548068</td>\n      <td>-1.121792</td>\n      <td>-1.477492</td>\n      <td>one</td>\n    </tr>\n    <tr>\n      <th>2013-01-03</th>\n      <td>0.191623</td>\n      <td>-0.442280</td>\n      <td>2.126084</td>\n      <td>1.288772</td>\n      <td>two</td>\n    </tr>\n    <tr>\n      <th>2013-01-04</th>\n      <td>0.335333</td>\n      <td>-2.411343</td>\n      <td>0.934587</td>\n      <td>0.034442</td>\n      <td>three</td>\n    </tr>\n    <tr>\n      <th>2013-01-05</th>\n      <td>-0.658566</td>\n      <td>0.597898</td>\n      <td>-0.174126</td>\n      <td>0.618307</td>\n      <td>four</td>\n    </tr>\n    <tr>\n      <th>2013-01-06</th>\n      <td>-0.733441</td>\n      <td>-0.982399</td>\n      <td>-0.855468</td>\n      <td>0.168273</td>\n      <td>three</td>\n    </tr>\n  </tbody>\n</table>\n</div>"
     },
     "metadata": {},
     "execution_count": 21
    }
   ],
   "source": [
    "df2 = df.copy() #不會更改原本的df\n",
    "# df2 = df #會更改原本的df，使得df == df2\n",
    "\n",
    "df2['E'] = [\"one\", \"one\", \"two\", \"three\", \"four\", \"three\"]\n",
    "df2"
   ]
  },
  {
   "cell_type": "code",
   "execution_count": 22,
   "metadata": {},
   "outputs": [
    {
     "output_type": "execute_result",
     "data": {
      "text/plain": [
       "                   A         B         C         D      E\n",
       "2013-01-01 -0.309406 -1.174792  1.204756 -0.637679    one\n",
       "2013-01-02  0.937429 -0.548068 -1.121792 -1.477492    one\n",
       "2013-01-04  0.335333 -2.411343  0.934587  0.034442  three\n",
       "2013-01-06 -0.733441 -0.982399 -0.855468  0.168273  three"
      ],
      "text/html": "<div>\n<style scoped>\n    .dataframe tbody tr th:only-of-type {\n        vertical-align: middle;\n    }\n\n    .dataframe tbody tr th {\n        vertical-align: top;\n    }\n\n    .dataframe thead th {\n        text-align: right;\n    }\n</style>\n<table border=\"1\" class=\"dataframe\">\n  <thead>\n    <tr style=\"text-align: right;\">\n      <th></th>\n      <th>A</th>\n      <th>B</th>\n      <th>C</th>\n      <th>D</th>\n      <th>E</th>\n    </tr>\n  </thead>\n  <tbody>\n    <tr>\n      <th>2013-01-01</th>\n      <td>-0.309406</td>\n      <td>-1.174792</td>\n      <td>1.204756</td>\n      <td>-0.637679</td>\n      <td>one</td>\n    </tr>\n    <tr>\n      <th>2013-01-02</th>\n      <td>0.937429</td>\n      <td>-0.548068</td>\n      <td>-1.121792</td>\n      <td>-1.477492</td>\n      <td>one</td>\n    </tr>\n    <tr>\n      <th>2013-01-04</th>\n      <td>0.335333</td>\n      <td>-2.411343</td>\n      <td>0.934587</td>\n      <td>0.034442</td>\n      <td>three</td>\n    </tr>\n    <tr>\n      <th>2013-01-06</th>\n      <td>-0.733441</td>\n      <td>-0.982399</td>\n      <td>-0.855468</td>\n      <td>0.168273</td>\n      <td>three</td>\n    </tr>\n  </tbody>\n</table>\n</div>"
     },
     "metadata": {},
     "execution_count": 22
    }
   ],
   "source": [
    "#利用isin()，filter出特定條件的row\n",
    "df2[df2['E'].isin(['one', 'three'])]"
   ]
  },
  {
   "cell_type": "code",
   "execution_count": 23,
   "metadata": {},
   "outputs": [],
   "source": [
    "#Setting"
   ]
  },
  {
   "cell_type": "code",
   "execution_count": 24,
   "metadata": {},
   "outputs": [
    {
     "output_type": "execute_result",
     "data": {
      "text/plain": [
       "                   A         B         C         D    F\n",
       "2013-01-01 -0.309406 -1.174792  1.204756 -0.637679  NaN\n",
       "2013-01-02  0.937429 -0.548068 -1.121792 -1.477492  1.0\n",
       "2013-01-03  0.191623 -0.442280  2.126084  1.288772  2.0\n",
       "2013-01-04  0.335333 -2.411343  0.934587  0.034442  3.0\n",
       "2013-01-05 -0.658566  0.597898 -0.174126  0.618307  4.0\n",
       "2013-01-06 -0.733441 -0.982399 -0.855468  0.168273  5.0"
      ],
      "text/html": "<div>\n<style scoped>\n    .dataframe tbody tr th:only-of-type {\n        vertical-align: middle;\n    }\n\n    .dataframe tbody tr th {\n        vertical-align: top;\n    }\n\n    .dataframe thead th {\n        text-align: right;\n    }\n</style>\n<table border=\"1\" class=\"dataframe\">\n  <thead>\n    <tr style=\"text-align: right;\">\n      <th></th>\n      <th>A</th>\n      <th>B</th>\n      <th>C</th>\n      <th>D</th>\n      <th>F</th>\n    </tr>\n  </thead>\n  <tbody>\n    <tr>\n      <th>2013-01-01</th>\n      <td>-0.309406</td>\n      <td>-1.174792</td>\n      <td>1.204756</td>\n      <td>-0.637679</td>\n      <td>NaN</td>\n    </tr>\n    <tr>\n      <th>2013-01-02</th>\n      <td>0.937429</td>\n      <td>-0.548068</td>\n      <td>-1.121792</td>\n      <td>-1.477492</td>\n      <td>1.0</td>\n    </tr>\n    <tr>\n      <th>2013-01-03</th>\n      <td>0.191623</td>\n      <td>-0.442280</td>\n      <td>2.126084</td>\n      <td>1.288772</td>\n      <td>2.0</td>\n    </tr>\n    <tr>\n      <th>2013-01-04</th>\n      <td>0.335333</td>\n      <td>-2.411343</td>\n      <td>0.934587</td>\n      <td>0.034442</td>\n      <td>3.0</td>\n    </tr>\n    <tr>\n      <th>2013-01-05</th>\n      <td>-0.658566</td>\n      <td>0.597898</td>\n      <td>-0.174126</td>\n      <td>0.618307</td>\n      <td>4.0</td>\n    </tr>\n    <tr>\n      <th>2013-01-06</th>\n      <td>-0.733441</td>\n      <td>-0.982399</td>\n      <td>-0.855468</td>\n      <td>0.168273</td>\n      <td>5.0</td>\n    </tr>\n  </tbody>\n</table>\n</div>"
     },
     "metadata": {},
     "execution_count": 24
    }
   ],
   "source": [
    "s1 = pd.Series([1, 2, 3, 4, 5, 6], index=pd.date_range(\"20130102\", periods=6))\n",
    "s1\n",
    "\n",
    "df['F'] = s1\n",
    "df"
   ]
  },
  {
   "cell_type": "code",
   "execution_count": 25,
   "metadata": {},
   "outputs": [
    {
     "output_type": "execute_result",
     "data": {
      "text/plain": [
       "                   A         B         C         D    F\n",
       "2013-01-01  0.000000 -1.174792  1.204756 -0.637679  NaN\n",
       "2013-01-02  0.937429 -0.548068 -1.121792 -1.477492  1.0\n",
       "2013-01-03  0.191623 -0.442280  2.126084  1.288772  2.0\n",
       "2013-01-04  0.335333 -2.411343  0.934587  0.034442  3.0\n",
       "2013-01-05 -0.658566  0.597898 -0.174126  0.618307  4.0\n",
       "2013-01-06 -0.733441 -0.982399 -0.855468  0.168273  5.0"
      ],
      "text/html": "<div>\n<style scoped>\n    .dataframe tbody tr th:only-of-type {\n        vertical-align: middle;\n    }\n\n    .dataframe tbody tr th {\n        vertical-align: top;\n    }\n\n    .dataframe thead th {\n        text-align: right;\n    }\n</style>\n<table border=\"1\" class=\"dataframe\">\n  <thead>\n    <tr style=\"text-align: right;\">\n      <th></th>\n      <th>A</th>\n      <th>B</th>\n      <th>C</th>\n      <th>D</th>\n      <th>F</th>\n    </tr>\n  </thead>\n  <tbody>\n    <tr>\n      <th>2013-01-01</th>\n      <td>0.000000</td>\n      <td>-1.174792</td>\n      <td>1.204756</td>\n      <td>-0.637679</td>\n      <td>NaN</td>\n    </tr>\n    <tr>\n      <th>2013-01-02</th>\n      <td>0.937429</td>\n      <td>-0.548068</td>\n      <td>-1.121792</td>\n      <td>-1.477492</td>\n      <td>1.0</td>\n    </tr>\n    <tr>\n      <th>2013-01-03</th>\n      <td>0.191623</td>\n      <td>-0.442280</td>\n      <td>2.126084</td>\n      <td>1.288772</td>\n      <td>2.0</td>\n    </tr>\n    <tr>\n      <th>2013-01-04</th>\n      <td>0.335333</td>\n      <td>-2.411343</td>\n      <td>0.934587</td>\n      <td>0.034442</td>\n      <td>3.0</td>\n    </tr>\n    <tr>\n      <th>2013-01-05</th>\n      <td>-0.658566</td>\n      <td>0.597898</td>\n      <td>-0.174126</td>\n      <td>0.618307</td>\n      <td>4.0</td>\n    </tr>\n    <tr>\n      <th>2013-01-06</th>\n      <td>-0.733441</td>\n      <td>-0.982399</td>\n      <td>-0.855468</td>\n      <td>0.168273</td>\n      <td>5.0</td>\n    </tr>\n  </tbody>\n</table>\n</div>"
     },
     "metadata": {},
     "execution_count": 25
    }
   ],
   "source": [
    "df.loc[dates[0], 'A'] = 0\n",
    "df"
   ]
  },
  {
   "cell_type": "code",
   "execution_count": 33,
   "metadata": {},
   "outputs": [
    {
     "output_type": "execute_result",
     "data": {
      "text/plain": [
       "                   A         B         C  D    F\n",
       "2013-01-01  0.000000 -1.174792  1.204756  5  NaN\n",
       "2013-01-02  0.937429 -0.548068 -1.121792  5  1.0\n",
       "2013-01-03  0.191623 -0.442280  2.126084  5  2.0\n",
       "2013-01-04  0.335333 -2.411343  0.934587  5  3.0\n",
       "2013-01-05 -0.658566  0.597898 -0.174126  5  4.0\n",
       "2013-01-06 -0.733441 -0.982399 -0.855468  5  5.0"
      ],
      "text/html": "<div>\n<style scoped>\n    .dataframe tbody tr th:only-of-type {\n        vertical-align: middle;\n    }\n\n    .dataframe tbody tr th {\n        vertical-align: top;\n    }\n\n    .dataframe thead th {\n        text-align: right;\n    }\n</style>\n<table border=\"1\" class=\"dataframe\">\n  <thead>\n    <tr style=\"text-align: right;\">\n      <th></th>\n      <th>A</th>\n      <th>B</th>\n      <th>C</th>\n      <th>D</th>\n      <th>F</th>\n    </tr>\n  </thead>\n  <tbody>\n    <tr>\n      <th>2013-01-01</th>\n      <td>0.000000</td>\n      <td>-1.174792</td>\n      <td>1.204756</td>\n      <td>5</td>\n      <td>NaN</td>\n    </tr>\n    <tr>\n      <th>2013-01-02</th>\n      <td>0.937429</td>\n      <td>-0.548068</td>\n      <td>-1.121792</td>\n      <td>5</td>\n      <td>1.0</td>\n    </tr>\n    <tr>\n      <th>2013-01-03</th>\n      <td>0.191623</td>\n      <td>-0.442280</td>\n      <td>2.126084</td>\n      <td>5</td>\n      <td>2.0</td>\n    </tr>\n    <tr>\n      <th>2013-01-04</th>\n      <td>0.335333</td>\n      <td>-2.411343</td>\n      <td>0.934587</td>\n      <td>5</td>\n      <td>3.0</td>\n    </tr>\n    <tr>\n      <th>2013-01-05</th>\n      <td>-0.658566</td>\n      <td>0.597898</td>\n      <td>-0.174126</td>\n      <td>5</td>\n      <td>4.0</td>\n    </tr>\n    <tr>\n      <th>2013-01-06</th>\n      <td>-0.733441</td>\n      <td>-0.982399</td>\n      <td>-0.855468</td>\n      <td>5</td>\n      <td>5.0</td>\n    </tr>\n  </tbody>\n</table>\n</div>"
     },
     "metadata": {},
     "execution_count": 33
    }
   ],
   "source": [
    "df['D'] = np.array([5] * len(df))\n",
    "df"
   ]
  },
  {
   "cell_type": "code",
   "execution_count": null,
   "metadata": {},
   "outputs": [],
   "source": [
    "# Missing value"
   ]
  },
  {
   "cell_type": "code",
   "execution_count": 47,
   "metadata": {},
   "outputs": [
    {
     "output_type": "execute_result",
     "data": {
      "text/plain": [
       "                   A         B         C  D    F    E\n",
       "2013-01-01  0.000000 -1.174792  1.204756  5  NaN  1.0\n",
       "2013-01-02  0.937429 -0.548068 -1.121792  5  1.0  1.0\n",
       "2013-01-03  0.191623 -0.442280  2.126084  5  2.0  NaN\n",
       "2013-01-04  0.335333 -2.411343  0.934587  5  3.0  NaN"
      ],
      "text/html": "<div>\n<style scoped>\n    .dataframe tbody tr th:only-of-type {\n        vertical-align: middle;\n    }\n\n    .dataframe tbody tr th {\n        vertical-align: top;\n    }\n\n    .dataframe thead th {\n        text-align: right;\n    }\n</style>\n<table border=\"1\" class=\"dataframe\">\n  <thead>\n    <tr style=\"text-align: right;\">\n      <th></th>\n      <th>A</th>\n      <th>B</th>\n      <th>C</th>\n      <th>D</th>\n      <th>F</th>\n      <th>E</th>\n    </tr>\n  </thead>\n  <tbody>\n    <tr>\n      <th>2013-01-01</th>\n      <td>0.000000</td>\n      <td>-1.174792</td>\n      <td>1.204756</td>\n      <td>5</td>\n      <td>NaN</td>\n      <td>1.0</td>\n    </tr>\n    <tr>\n      <th>2013-01-02</th>\n      <td>0.937429</td>\n      <td>-0.548068</td>\n      <td>-1.121792</td>\n      <td>5</td>\n      <td>1.0</td>\n      <td>1.0</td>\n    </tr>\n    <tr>\n      <th>2013-01-03</th>\n      <td>0.191623</td>\n      <td>-0.442280</td>\n      <td>2.126084</td>\n      <td>5</td>\n      <td>2.0</td>\n      <td>NaN</td>\n    </tr>\n    <tr>\n      <th>2013-01-04</th>\n      <td>0.335333</td>\n      <td>-2.411343</td>\n      <td>0.934587</td>\n      <td>5</td>\n      <td>3.0</td>\n      <td>NaN</td>\n    </tr>\n  </tbody>\n</table>\n</div>"
     },
     "metadata": {},
     "execution_count": 47
    }
   ],
   "source": [
    "df1 = df.reindex(index=dates[0:4], columns=list(df.columns) + [\"E\"])\n",
    "\n",
    "df1.loc[dates[0] : dates[1], \"E\"] = 1\n",
    "\n",
    "df1"
   ]
  },
  {
   "cell_type": "code",
   "execution_count": 50,
   "metadata": {},
   "outputs": [
    {
     "output_type": "execute_result",
     "data": {
      "text/plain": [
       "                   A         B         C  D    F    E\n",
       "2013-01-02  0.937429 -0.548068 -1.121792  5  1.0  1.0"
      ],
      "text/html": "<div>\n<style scoped>\n    .dataframe tbody tr th:only-of-type {\n        vertical-align: middle;\n    }\n\n    .dataframe tbody tr th {\n        vertical-align: top;\n    }\n\n    .dataframe thead th {\n        text-align: right;\n    }\n</style>\n<table border=\"1\" class=\"dataframe\">\n  <thead>\n    <tr style=\"text-align: right;\">\n      <th></th>\n      <th>A</th>\n      <th>B</th>\n      <th>C</th>\n      <th>D</th>\n      <th>F</th>\n      <th>E</th>\n    </tr>\n  </thead>\n  <tbody>\n    <tr>\n      <th>2013-01-02</th>\n      <td>0.937429</td>\n      <td>-0.548068</td>\n      <td>-1.121792</td>\n      <td>5</td>\n      <td>1.0</td>\n      <td>1.0</td>\n    </tr>\n  </tbody>\n</table>\n</div>"
     },
     "metadata": {},
     "execution_count": 50
    }
   ],
   "source": [
    "# 移除具有NA的row (na.omit)\n",
    "df1.dropna(how='any') #how='all': 整個row或col都是NA才會去除\n"
   ]
  },
  {
   "cell_type": "code",
   "execution_count": null,
   "metadata": {},
   "outputs": [],
   "source": [
    "df1.fillna(value=5)"
   ]
  },
  {
   "cell_type": "code",
   "execution_count": 51,
   "metadata": {},
   "outputs": [
    {
     "output_type": "execute_result",
     "data": {
      "text/plain": [
       "                A      B      C      D      F      E\n",
       "2013-01-01  False  False  False  False   True  False\n",
       "2013-01-02  False  False  False  False  False  False\n",
       "2013-01-03  False  False  False  False  False   True\n",
       "2013-01-04  False  False  False  False  False   True"
      ],
      "text/html": "<div>\n<style scoped>\n    .dataframe tbody tr th:only-of-type {\n        vertical-align: middle;\n    }\n\n    .dataframe tbody tr th {\n        vertical-align: top;\n    }\n\n    .dataframe thead th {\n        text-align: right;\n    }\n</style>\n<table border=\"1\" class=\"dataframe\">\n  <thead>\n    <tr style=\"text-align: right;\">\n      <th></th>\n      <th>A</th>\n      <th>B</th>\n      <th>C</th>\n      <th>D</th>\n      <th>F</th>\n      <th>E</th>\n    </tr>\n  </thead>\n  <tbody>\n    <tr>\n      <th>2013-01-01</th>\n      <td>False</td>\n      <td>False</td>\n      <td>False</td>\n      <td>False</td>\n      <td>True</td>\n      <td>False</td>\n    </tr>\n    <tr>\n      <th>2013-01-02</th>\n      <td>False</td>\n      <td>False</td>\n      <td>False</td>\n      <td>False</td>\n      <td>False</td>\n      <td>False</td>\n    </tr>\n    <tr>\n      <th>2013-01-03</th>\n      <td>False</td>\n      <td>False</td>\n      <td>False</td>\n      <td>False</td>\n      <td>False</td>\n      <td>True</td>\n    </tr>\n    <tr>\n      <th>2013-01-04</th>\n      <td>False</td>\n      <td>False</td>\n      <td>False</td>\n      <td>False</td>\n      <td>False</td>\n      <td>True</td>\n    </tr>\n  </tbody>\n</table>\n</div>"
     },
     "metadata": {},
     "execution_count": 51
    }
   ],
   "source": [
    "df1.isna()"
   ]
  },
  {
   "cell_type": "code",
   "execution_count": null,
   "metadata": {},
   "outputs": [],
   "source": [
    "#Operation"
   ]
  },
  {
   "cell_type": "code",
   "execution_count": 55,
   "metadata": {},
   "outputs": [
    {
     "output_type": "execute_result",
     "data": {
      "text/plain": [
       "2013-01-01    1.257491\n",
       "2013-01-02    1.053514\n",
       "2013-01-03    1.775085\n",
       "2013-01-04    1.371715\n",
       "2013-01-05    1.753041\n",
       "2013-01-06    1.485738\n",
       "Freq: D, dtype: float64"
      ]
     },
     "metadata": {},
     "execution_count": 55
    }
   ],
   "source": [
    "df.mean() #by col 做mean\n",
    "\n",
    "df.mean(axis=1) #by row 做mean\n",
    "\n",
    "# 注意: 如果有nan，都會被忽略"
   ]
  },
  {
   "cell_type": "code",
   "execution_count": 58,
   "metadata": {},
   "outputs": [
    {
     "output_type": "execute_result",
     "data": {
      "text/plain": [
       "2013-01-01    NaN\n",
       "2013-01-02    NaN\n",
       "2013-01-03    1.0\n",
       "2013-01-04    3.0\n",
       "2013-01-05    5.0\n",
       "2013-01-06    NaN\n",
       "Freq: D, dtype: float64"
      ]
     },
     "metadata": {},
     "execution_count": 58
    }
   ],
   "source": [
    "s = pd.Series([1, 3, 5, np.nan, 6, 8], index=dates).shift(2)\n",
    "s"
   ]
  },
  {
   "cell_type": "code",
   "execution_count": 62,
   "metadata": {},
   "outputs": [
    {
     "output_type": "execute_result",
     "data": {
      "text/plain": [
       "                   A         B         C    D    F\n",
       "2013-01-01       NaN       NaN       NaN  NaN  NaN\n",
       "2013-01-02       NaN       NaN       NaN  NaN  NaN\n",
       "2013-01-03 -0.808377 -1.442280  1.126084  4.0  1.0\n",
       "2013-01-04 -2.664667 -5.411343 -2.065413  2.0  0.0\n",
       "2013-01-05 -5.658566 -4.402102 -5.174126  0.0 -1.0\n",
       "2013-01-06       NaN       NaN       NaN  NaN  NaN"
      ],
      "text/html": "<div>\n<style scoped>\n    .dataframe tbody tr th:only-of-type {\n        vertical-align: middle;\n    }\n\n    .dataframe tbody tr th {\n        vertical-align: top;\n    }\n\n    .dataframe thead th {\n        text-align: right;\n    }\n</style>\n<table border=\"1\" class=\"dataframe\">\n  <thead>\n    <tr style=\"text-align: right;\">\n      <th></th>\n      <th>A</th>\n      <th>B</th>\n      <th>C</th>\n      <th>D</th>\n      <th>F</th>\n    </tr>\n  </thead>\n  <tbody>\n    <tr>\n      <th>2013-01-01</th>\n      <td>NaN</td>\n      <td>NaN</td>\n      <td>NaN</td>\n      <td>NaN</td>\n      <td>NaN</td>\n    </tr>\n    <tr>\n      <th>2013-01-02</th>\n      <td>NaN</td>\n      <td>NaN</td>\n      <td>NaN</td>\n      <td>NaN</td>\n      <td>NaN</td>\n    </tr>\n    <tr>\n      <th>2013-01-03</th>\n      <td>-0.808377</td>\n      <td>-1.442280</td>\n      <td>1.126084</td>\n      <td>4.0</td>\n      <td>1.0</td>\n    </tr>\n    <tr>\n      <th>2013-01-04</th>\n      <td>-2.664667</td>\n      <td>-5.411343</td>\n      <td>-2.065413</td>\n      <td>2.0</td>\n      <td>0.0</td>\n    </tr>\n    <tr>\n      <th>2013-01-05</th>\n      <td>-5.658566</td>\n      <td>-4.402102</td>\n      <td>-5.174126</td>\n      <td>0.0</td>\n      <td>-1.0</td>\n    </tr>\n    <tr>\n      <th>2013-01-06</th>\n      <td>NaN</td>\n      <td>NaN</td>\n      <td>NaN</td>\n      <td>NaN</td>\n      <td>NaN</td>\n    </tr>\n  </tbody>\n</table>\n</div>"
     },
     "metadata": {},
     "execution_count": 62
    }
   ],
   "source": [
    "# df - s by row，因為維度不一樣，python會brodcast到相同維度\n",
    "df.sub(s, axis=0)"
   ]
  },
  {
   "cell_type": "code",
   "execution_count": null,
   "metadata": {},
   "outputs": [],
   "source": [
    "#Apply"
   ]
  },
  {
   "cell_type": "code",
   "execution_count": 63,
   "metadata": {},
   "outputs": [
    {
     "output_type": "execute_result",
     "data": {
      "text/plain": [
       "                   A         B         C   D     F\n",
       "2013-01-01  0.000000 -1.174792  1.204756   5   NaN\n",
       "2013-01-02  0.937429 -1.722859  0.082964  10   1.0\n",
       "2013-01-03  1.129052 -2.165140  2.209047  15   3.0\n",
       "2013-01-04  1.464385 -4.576483  3.143634  20   6.0\n",
       "2013-01-05  0.805819 -3.978585  2.969509  25  10.0\n",
       "2013-01-06  0.072378 -4.960984  2.114040  30  15.0"
      ],
      "text/html": "<div>\n<style scoped>\n    .dataframe tbody tr th:only-of-type {\n        vertical-align: middle;\n    }\n\n    .dataframe tbody tr th {\n        vertical-align: top;\n    }\n\n    .dataframe thead th {\n        text-align: right;\n    }\n</style>\n<table border=\"1\" class=\"dataframe\">\n  <thead>\n    <tr style=\"text-align: right;\">\n      <th></th>\n      <th>A</th>\n      <th>B</th>\n      <th>C</th>\n      <th>D</th>\n      <th>F</th>\n    </tr>\n  </thead>\n  <tbody>\n    <tr>\n      <th>2013-01-01</th>\n      <td>0.000000</td>\n      <td>-1.174792</td>\n      <td>1.204756</td>\n      <td>5</td>\n      <td>NaN</td>\n    </tr>\n    <tr>\n      <th>2013-01-02</th>\n      <td>0.937429</td>\n      <td>-1.722859</td>\n      <td>0.082964</td>\n      <td>10</td>\n      <td>1.0</td>\n    </tr>\n    <tr>\n      <th>2013-01-03</th>\n      <td>1.129052</td>\n      <td>-2.165140</td>\n      <td>2.209047</td>\n      <td>15</td>\n      <td>3.0</td>\n    </tr>\n    <tr>\n      <th>2013-01-04</th>\n      <td>1.464385</td>\n      <td>-4.576483</td>\n      <td>3.143634</td>\n      <td>20</td>\n      <td>6.0</td>\n    </tr>\n    <tr>\n      <th>2013-01-05</th>\n      <td>0.805819</td>\n      <td>-3.978585</td>\n      <td>2.969509</td>\n      <td>25</td>\n      <td>10.0</td>\n    </tr>\n    <tr>\n      <th>2013-01-06</th>\n      <td>0.072378</td>\n      <td>-4.960984</td>\n      <td>2.114040</td>\n      <td>30</td>\n      <td>15.0</td>\n    </tr>\n  </tbody>\n</table>\n</div>"
     },
     "metadata": {},
     "execution_count": 63
    }
   ],
   "source": [
    "#根據每個col去做cums剪去\n",
    "df.apply(np.cumsum)"
   ]
  },
  {
   "cell_type": "code",
   "execution_count": 66,
   "metadata": {},
   "outputs": [
    {
     "output_type": "execute_result",
     "data": {
      "text/plain": [
       "A    1.670870\n",
       "B    3.009241\n",
       "C    3.247875\n",
       "D    0.000000\n",
       "F    4.000000\n",
       "dtype: float64"
      ]
     },
     "metadata": {},
     "execution_count": 66
    }
   ],
   "source": [
    "#根據每個col，用max value減去min value\n",
    "df.apply(lambda x: x.max() - x.min())"
   ]
  },
  {
   "cell_type": "code",
   "execution_count": null,
   "metadata": {},
   "outputs": [],
   "source": [
    "#Histogramming"
   ]
  },
  {
   "cell_type": "code",
   "execution_count": 67,
   "metadata": {},
   "outputs": [
    {
     "output_type": "execute_result",
     "data": {
      "text/plain": [
       "0    6\n",
       "1    4\n",
       "2    1\n",
       "3    2\n",
       "4    6\n",
       "5    2\n",
       "6    2\n",
       "7    0\n",
       "8    1\n",
       "9    6\n",
       "dtype: int32"
      ]
     },
     "metadata": {},
     "execution_count": 67
    }
   ],
   "source": [
    "s = pd.Series(np.random.randint(0, 7, size=10))\n",
    "s"
   ]
  },
  {
   "cell_type": "code",
   "execution_count": 68,
   "metadata": {},
   "outputs": [
    {
     "output_type": "execute_result",
     "data": {
      "text/plain": [
       "6    3\n",
       "2    3\n",
       "1    2\n",
       "4    1\n",
       "0    1\n",
       "dtype: int64"
      ]
     },
     "metadata": {},
     "execution_count": 68
    }
   ],
   "source": [
    "#計算每個value出現的次數\n",
    "s.value_counts()"
   ]
  },
  {
   "cell_type": "code",
   "execution_count": null,
   "metadata": {},
   "outputs": [],
   "source": [
    "#String Methods"
   ]
  },
  {
   "cell_type": "code",
   "execution_count": 72,
   "metadata": {},
   "outputs": [
    {
     "output_type": "execute_result",
     "data": {
      "text/plain": [
       "0       A\n",
       "1       B\n",
       "2       C\n",
       "3    Aaba\n",
       "4    Baca\n",
       "5     NaN\n",
       "6    CABA\n",
       "7     dog\n",
       "8     cat\n",
       "dtype: object"
      ]
     },
     "metadata": {},
     "execution_count": 72
    }
   ],
   "source": [
    "s = pd.Series([\"A\", \"B\", \"C\", \"Aaba\", \"Baca\", np.nan, \"CABA\", \"dog\", \"cat\"])\n",
    "s"
   ]
  },
  {
   "cell_type": "code",
   "execution_count": 73,
   "metadata": {},
   "outputs": [
    {
     "output_type": "execute_result",
     "data": {
      "text/plain": [
       "0       a\n",
       "1       b\n",
       "2       c\n",
       "3    aaba\n",
       "4    baca\n",
       "5     NaN\n",
       "6    caba\n",
       "7     dog\n",
       "8     cat\n",
       "dtype: object"
      ]
     },
     "metadata": {},
     "execution_count": 73
    }
   ],
   "source": [
    "#全部轉小寫\n",
    "s.str.lower()"
   ]
  },
  {
   "cell_type": "code",
   "execution_count": null,
   "metadata": {},
   "outputs": [],
   "source": [
    "#Merge"
   ]
  },
  {
   "cell_type": "code",
   "execution_count": 74,
   "metadata": {},
   "outputs": [
    {
     "output_type": "execute_result",
     "data": {
      "text/plain": [
       "          0         1         2         3\n",
       "0  2.028475  0.767530  0.461540 -0.277566\n",
       "1 -0.662725  0.734140 -0.585730  0.332986\n",
       "2  0.364115  0.731063 -0.953786  0.289834\n",
       "3 -0.386570 -0.566387 -1.174475 -0.393248\n",
       "4 -0.585674 -1.475098 -0.267431  0.110232\n",
       "5 -0.629438  0.983074 -0.308309 -0.568154\n",
       "6 -2.554150  0.795758  1.910101 -0.231950\n",
       "7 -0.357650  1.132465 -1.324988  0.339913\n",
       "8 -0.760404 -0.458769  0.336684 -0.626609\n",
       "9 -0.823414  1.636709 -0.160833 -0.387848"
      ],
      "text/html": "<div>\n<style scoped>\n    .dataframe tbody tr th:only-of-type {\n        vertical-align: middle;\n    }\n\n    .dataframe tbody tr th {\n        vertical-align: top;\n    }\n\n    .dataframe thead th {\n        text-align: right;\n    }\n</style>\n<table border=\"1\" class=\"dataframe\">\n  <thead>\n    <tr style=\"text-align: right;\">\n      <th></th>\n      <th>0</th>\n      <th>1</th>\n      <th>2</th>\n      <th>3</th>\n    </tr>\n  </thead>\n  <tbody>\n    <tr>\n      <th>0</th>\n      <td>2.028475</td>\n      <td>0.767530</td>\n      <td>0.461540</td>\n      <td>-0.277566</td>\n    </tr>\n    <tr>\n      <th>1</th>\n      <td>-0.662725</td>\n      <td>0.734140</td>\n      <td>-0.585730</td>\n      <td>0.332986</td>\n    </tr>\n    <tr>\n      <th>2</th>\n      <td>0.364115</td>\n      <td>0.731063</td>\n      <td>-0.953786</td>\n      <td>0.289834</td>\n    </tr>\n    <tr>\n      <th>3</th>\n      <td>-0.386570</td>\n      <td>-0.566387</td>\n      <td>-1.174475</td>\n      <td>-0.393248</td>\n    </tr>\n    <tr>\n      <th>4</th>\n      <td>-0.585674</td>\n      <td>-1.475098</td>\n      <td>-0.267431</td>\n      <td>0.110232</td>\n    </tr>\n    <tr>\n      <th>5</th>\n      <td>-0.629438</td>\n      <td>0.983074</td>\n      <td>-0.308309</td>\n      <td>-0.568154</td>\n    </tr>\n    <tr>\n      <th>6</th>\n      <td>-2.554150</td>\n      <td>0.795758</td>\n      <td>1.910101</td>\n      <td>-0.231950</td>\n    </tr>\n    <tr>\n      <th>7</th>\n      <td>-0.357650</td>\n      <td>1.132465</td>\n      <td>-1.324988</td>\n      <td>0.339913</td>\n    </tr>\n    <tr>\n      <th>8</th>\n      <td>-0.760404</td>\n      <td>-0.458769</td>\n      <td>0.336684</td>\n      <td>-0.626609</td>\n    </tr>\n    <tr>\n      <th>9</th>\n      <td>-0.823414</td>\n      <td>1.636709</td>\n      <td>-0.160833</td>\n      <td>-0.387848</td>\n    </tr>\n  </tbody>\n</table>\n</div>"
     },
     "metadata": {},
     "execution_count": 74
    }
   ],
   "source": [
    "df = pd.DataFrame(np.random.randn(10, 4))\n",
    "df"
   ]
  },
  {
   "cell_type": "code",
   "execution_count": 77,
   "metadata": {},
   "outputs": [
    {
     "output_type": "execute_result",
     "data": {
      "text/plain": [
       "[          0         1         2         3\n",
       " 0  2.028475  0.767530  0.461540 -0.277566\n",
       " 1 -0.662725  0.734140 -0.585730  0.332986\n",
       " 2  0.364115  0.731063 -0.953786  0.289834,\n",
       "           0         1         2         3\n",
       " 3 -0.386570 -0.566387 -1.174475 -0.393248\n",
       " 4 -0.585674 -1.475098 -0.267431  0.110232\n",
       " 5 -0.629438  0.983074 -0.308309 -0.568154\n",
       " 6 -2.554150  0.795758  1.910101 -0.231950,\n",
       "           0         1         2         3\n",
       " 7 -0.357650  1.132465 -1.324988  0.339913\n",
       " 8 -0.760404 -0.458769  0.336684 -0.626609\n",
       " 9 -0.823414  1.636709 -0.160833 -0.387848]"
      ]
     },
     "metadata": {},
     "execution_count": 77
    }
   ],
   "source": [
    "pieces = [df[:3], df[3:7], df[7:]] #用list把原始df拆成3段\n",
    "pieces"
   ]
  },
  {
   "cell_type": "code",
   "execution_count": 78,
   "metadata": {},
   "outputs": [
    {
     "output_type": "execute_result",
     "data": {
      "text/plain": [
       "          0         1         2         3\n",
       "0  2.028475  0.767530  0.461540 -0.277566\n",
       "1 -0.662725  0.734140 -0.585730  0.332986\n",
       "2  0.364115  0.731063 -0.953786  0.289834\n",
       "3 -0.386570 -0.566387 -1.174475 -0.393248\n",
       "4 -0.585674 -1.475098 -0.267431  0.110232\n",
       "5 -0.629438  0.983074 -0.308309 -0.568154\n",
       "6 -2.554150  0.795758  1.910101 -0.231950\n",
       "7 -0.357650  1.132465 -1.324988  0.339913\n",
       "8 -0.760404 -0.458769  0.336684 -0.626609\n",
       "9 -0.823414  1.636709 -0.160833 -0.387848"
      ],
      "text/html": "<div>\n<style scoped>\n    .dataframe tbody tr th:only-of-type {\n        vertical-align: middle;\n    }\n\n    .dataframe tbody tr th {\n        vertical-align: top;\n    }\n\n    .dataframe thead th {\n        text-align: right;\n    }\n</style>\n<table border=\"1\" class=\"dataframe\">\n  <thead>\n    <tr style=\"text-align: right;\">\n      <th></th>\n      <th>0</th>\n      <th>1</th>\n      <th>2</th>\n      <th>3</th>\n    </tr>\n  </thead>\n  <tbody>\n    <tr>\n      <th>0</th>\n      <td>2.028475</td>\n      <td>0.767530</td>\n      <td>0.461540</td>\n      <td>-0.277566</td>\n    </tr>\n    <tr>\n      <th>1</th>\n      <td>-0.662725</td>\n      <td>0.734140</td>\n      <td>-0.585730</td>\n      <td>0.332986</td>\n    </tr>\n    <tr>\n      <th>2</th>\n      <td>0.364115</td>\n      <td>0.731063</td>\n      <td>-0.953786</td>\n      <td>0.289834</td>\n    </tr>\n    <tr>\n      <th>3</th>\n      <td>-0.386570</td>\n      <td>-0.566387</td>\n      <td>-1.174475</td>\n      <td>-0.393248</td>\n    </tr>\n    <tr>\n      <th>4</th>\n      <td>-0.585674</td>\n      <td>-1.475098</td>\n      <td>-0.267431</td>\n      <td>0.110232</td>\n    </tr>\n    <tr>\n      <th>5</th>\n      <td>-0.629438</td>\n      <td>0.983074</td>\n      <td>-0.308309</td>\n      <td>-0.568154</td>\n    </tr>\n    <tr>\n      <th>6</th>\n      <td>-2.554150</td>\n      <td>0.795758</td>\n      <td>1.910101</td>\n      <td>-0.231950</td>\n    </tr>\n    <tr>\n      <th>7</th>\n      <td>-0.357650</td>\n      <td>1.132465</td>\n      <td>-1.324988</td>\n      <td>0.339913</td>\n    </tr>\n    <tr>\n      <th>8</th>\n      <td>-0.760404</td>\n      <td>-0.458769</td>\n      <td>0.336684</td>\n      <td>-0.626609</td>\n    </tr>\n    <tr>\n      <th>9</th>\n      <td>-0.823414</td>\n      <td>1.636709</td>\n      <td>-0.160833</td>\n      <td>-0.387848</td>\n    </tr>\n  </tbody>\n</table>\n</div>"
     },
     "metadata": {},
     "execution_count": 78
    }
   ],
   "source": [
    "pd.concat(pieces)\n",
    "\n",
    "# 注意: 添加col速度比較快，若是要添加row會慢很多，因此建議先創建一個list，蒐集要合併的row，之後將list concat起來再合併回去df，速度會較快"
   ]
  },
  {
   "cell_type": "code",
   "execution_count": null,
   "metadata": {},
   "outputs": [],
   "source": [
    "#Join"
   ]
  },
  {
   "cell_type": "code",
   "execution_count": 79,
   "metadata": {},
   "outputs": [
    {
     "output_type": "execute_result",
     "data": {
      "text/plain": [
       "   key  lval  rval\n",
       "0  foo     1     4\n",
       "1  foo     1     5\n",
       "2  foo     2     4\n",
       "3  foo     2     5"
      ],
      "text/html": "<div>\n<style scoped>\n    .dataframe tbody tr th:only-of-type {\n        vertical-align: middle;\n    }\n\n    .dataframe tbody tr th {\n        vertical-align: top;\n    }\n\n    .dataframe thead th {\n        text-align: right;\n    }\n</style>\n<table border=\"1\" class=\"dataframe\">\n  <thead>\n    <tr style=\"text-align: right;\">\n      <th></th>\n      <th>key</th>\n      <th>lval</th>\n      <th>rval</th>\n    </tr>\n  </thead>\n  <tbody>\n    <tr>\n      <th>0</th>\n      <td>foo</td>\n      <td>1</td>\n      <td>4</td>\n    </tr>\n    <tr>\n      <th>1</th>\n      <td>foo</td>\n      <td>1</td>\n      <td>5</td>\n    </tr>\n    <tr>\n      <th>2</th>\n      <td>foo</td>\n      <td>2</td>\n      <td>4</td>\n    </tr>\n    <tr>\n      <th>3</th>\n      <td>foo</td>\n      <td>2</td>\n      <td>5</td>\n    </tr>\n  </tbody>\n</table>\n</div>"
     },
     "metadata": {},
     "execution_count": 79
    }
   ],
   "source": [
    "left = pd.DataFrame({\"key\": [\"foo\", \"foo\"], \"lval\": [1, 2]})\n",
    "right = pd.DataFrame({\"key\": [\"foo\", \"foo\"], \"rval\": [4, 5]})\n",
    "\n",
    "pd.merge(left, right, on=\"key\")"
   ]
  },
  {
   "cell_type": "code",
   "execution_count": 80,
   "metadata": {},
   "outputs": [
    {
     "output_type": "execute_result",
     "data": {
      "text/plain": [
       "   key  lval  rval\n",
       "0  foo     1     4\n",
       "1  bar     2     5"
      ],
      "text/html": "<div>\n<style scoped>\n    .dataframe tbody tr th:only-of-type {\n        vertical-align: middle;\n    }\n\n    .dataframe tbody tr th {\n        vertical-align: top;\n    }\n\n    .dataframe thead th {\n        text-align: right;\n    }\n</style>\n<table border=\"1\" class=\"dataframe\">\n  <thead>\n    <tr style=\"text-align: right;\">\n      <th></th>\n      <th>key</th>\n      <th>lval</th>\n      <th>rval</th>\n    </tr>\n  </thead>\n  <tbody>\n    <tr>\n      <th>0</th>\n      <td>foo</td>\n      <td>1</td>\n      <td>4</td>\n    </tr>\n    <tr>\n      <th>1</th>\n      <td>bar</td>\n      <td>2</td>\n      <td>5</td>\n    </tr>\n  </tbody>\n</table>\n</div>"
     },
     "metadata": {},
     "execution_count": 80
    }
   ],
   "source": [
    "left = pd.DataFrame({\"key\": [\"foo\", \"bar\"], \"lval\": [1, 2]})\n",
    "right = pd.DataFrame({\"key\": [\"foo\", \"bar\"], \"rval\": [4, 5]})\n",
    "\n",
    "pd.merge(left, right, on=\"key\")"
   ]
  },
  {
   "cell_type": "code",
   "execution_count": null,
   "metadata": {},
   "outputs": [],
   "source": [
    "# Grouping (group by)"
   ]
  },
  {
   "cell_type": "code",
   "execution_count": null,
   "metadata": {},
   "outputs": [],
   "source": []
  },
  {
   "cell_type": "code",
   "execution_count": 11,
   "metadata": {},
   "outputs": [
    {
     "output_type": "execute_result",
     "data": {
      "text/plain": [
       "     A      B         C         D\n",
       "0  foo    one  0.431756 -0.123799\n",
       "1  bar    one  0.910627  1.561734\n",
       "2  foo    two  0.381851  1.876600\n",
       "3  bar  three  0.339771 -0.244823\n",
       "4  foo    two  0.500692 -0.992808\n",
       "5  bar    two -0.222031 -0.924014\n",
       "6  foo    one  1.258080  0.491775\n",
       "7  foo  three  0.455834 -0.472678"
      ],
      "text/html": "<div>\n<style scoped>\n    .dataframe tbody tr th:only-of-type {\n        vertical-align: middle;\n    }\n\n    .dataframe tbody tr th {\n        vertical-align: top;\n    }\n\n    .dataframe thead th {\n        text-align: right;\n    }\n</style>\n<table border=\"1\" class=\"dataframe\">\n  <thead>\n    <tr style=\"text-align: right;\">\n      <th></th>\n      <th>A</th>\n      <th>B</th>\n      <th>C</th>\n      <th>D</th>\n    </tr>\n  </thead>\n  <tbody>\n    <tr>\n      <th>0</th>\n      <td>foo</td>\n      <td>one</td>\n      <td>0.431756</td>\n      <td>-0.123799</td>\n    </tr>\n    <tr>\n      <th>1</th>\n      <td>bar</td>\n      <td>one</td>\n      <td>0.910627</td>\n      <td>1.561734</td>\n    </tr>\n    <tr>\n      <th>2</th>\n      <td>foo</td>\n      <td>two</td>\n      <td>0.381851</td>\n      <td>1.876600</td>\n    </tr>\n    <tr>\n      <th>3</th>\n      <td>bar</td>\n      <td>three</td>\n      <td>0.339771</td>\n      <td>-0.244823</td>\n    </tr>\n    <tr>\n      <th>4</th>\n      <td>foo</td>\n      <td>two</td>\n      <td>0.500692</td>\n      <td>-0.992808</td>\n    </tr>\n    <tr>\n      <th>5</th>\n      <td>bar</td>\n      <td>two</td>\n      <td>-0.222031</td>\n      <td>-0.924014</td>\n    </tr>\n    <tr>\n      <th>6</th>\n      <td>foo</td>\n      <td>one</td>\n      <td>1.258080</td>\n      <td>0.491775</td>\n    </tr>\n    <tr>\n      <th>7</th>\n      <td>foo</td>\n      <td>three</td>\n      <td>0.455834</td>\n      <td>-0.472678</td>\n    </tr>\n  </tbody>\n</table>\n</div>"
     },
     "metadata": {},
     "execution_count": 11
    }
   ],
   "source": [
    "df = pd.DataFrame(\n",
    "    {\n",
    "        \"A\": [\"foo\", \"bar\", \"foo\", \"bar\", \"foo\", \"bar\", \"foo\", \"foo\"],\n",
    "        \"B\": [\"one\", \"one\", \"two\", \"three\", \"two\", \"two\", \"one\", \"three\"],\n",
    "        \"C\": np.random.randn(8),\n",
    "        \"D\": np.random.randn(8),\n",
    "    }\n",
    ")\n",
    "\n",
    "df"
   ]
  },
  {
   "cell_type": "code",
   "execution_count": 14,
   "metadata": {},
   "outputs": [
    {
     "output_type": "execute_result",
     "data": {
      "text/plain": [
       "                  C         D\n",
       "A   B                        \n",
       "bar one    0.910627  1.561734\n",
       "    three  0.339771 -0.244823\n",
       "    two   -0.222031 -0.924014\n",
       "foo one    1.689836  0.367977\n",
       "    three  0.455834 -0.472678\n",
       "    two    0.882543  0.883793"
      ],
      "text/html": "<div>\n<style scoped>\n    .dataframe tbody tr th:only-of-type {\n        vertical-align: middle;\n    }\n\n    .dataframe tbody tr th {\n        vertical-align: top;\n    }\n\n    .dataframe thead th {\n        text-align: right;\n    }\n</style>\n<table border=\"1\" class=\"dataframe\">\n  <thead>\n    <tr style=\"text-align: right;\">\n      <th></th>\n      <th></th>\n      <th>C</th>\n      <th>D</th>\n    </tr>\n    <tr>\n      <th>A</th>\n      <th>B</th>\n      <th></th>\n      <th></th>\n    </tr>\n  </thead>\n  <tbody>\n    <tr>\n      <th rowspan=\"3\" valign=\"top\">bar</th>\n      <th>one</th>\n      <td>0.910627</td>\n      <td>1.561734</td>\n    </tr>\n    <tr>\n      <th>three</th>\n      <td>0.339771</td>\n      <td>-0.244823</td>\n    </tr>\n    <tr>\n      <th>two</th>\n      <td>-0.222031</td>\n      <td>-0.924014</td>\n    </tr>\n    <tr>\n      <th rowspan=\"3\" valign=\"top\">foo</th>\n      <th>one</th>\n      <td>1.689836</td>\n      <td>0.367977</td>\n    </tr>\n    <tr>\n      <th>three</th>\n      <td>0.455834</td>\n      <td>-0.472678</td>\n    </tr>\n    <tr>\n      <th>two</th>\n      <td>0.882543</td>\n      <td>0.883793</td>\n    </tr>\n  </tbody>\n</table>\n</div>"
     },
     "metadata": {},
     "execution_count": 14
    }
   ],
   "source": [
    "df.groupby(['A', 'B']).sum()"
   ]
  },
  {
   "cell_type": "code",
   "execution_count": null,
   "metadata": {},
   "outputs": [],
   "source": [
    "#Reshaping"
   ]
  },
  {
   "cell_type": "code",
   "execution_count": 20,
   "metadata": {},
   "outputs": [
    {
     "output_type": "execute_result",
     "data": {
      "text/plain": [
       "                     A         B\n",
       "first second                    \n",
       "bar   one     0.169679  0.625449\n",
       "      two    -0.678340  1.299079\n",
       "baz   one    -0.972788  1.560854\n",
       "      two     1.740383 -0.652467"
      ],
      "text/html": "<div>\n<style scoped>\n    .dataframe tbody tr th:only-of-type {\n        vertical-align: middle;\n    }\n\n    .dataframe tbody tr th {\n        vertical-align: top;\n    }\n\n    .dataframe thead th {\n        text-align: right;\n    }\n</style>\n<table border=\"1\" class=\"dataframe\">\n  <thead>\n    <tr style=\"text-align: right;\">\n      <th></th>\n      <th></th>\n      <th>A</th>\n      <th>B</th>\n    </tr>\n    <tr>\n      <th>first</th>\n      <th>second</th>\n      <th></th>\n      <th></th>\n    </tr>\n  </thead>\n  <tbody>\n    <tr>\n      <th rowspan=\"2\" valign=\"top\">bar</th>\n      <th>one</th>\n      <td>0.169679</td>\n      <td>0.625449</td>\n    </tr>\n    <tr>\n      <th>two</th>\n      <td>-0.678340</td>\n      <td>1.299079</td>\n    </tr>\n    <tr>\n      <th rowspan=\"2\" valign=\"top\">baz</th>\n      <th>one</th>\n      <td>-0.972788</td>\n      <td>1.560854</td>\n    </tr>\n    <tr>\n      <th>two</th>\n      <td>1.740383</td>\n      <td>-0.652467</td>\n    </tr>\n  </tbody>\n</table>\n</div>"
     },
     "metadata": {},
     "execution_count": 20
    }
   ],
   "source": [
    "tuples = list(\n",
    "    zip(\n",
    "        *[\n",
    "            [\"bar\", \"bar\", \"baz\", \"baz\", \"foo\", \"foo\", \"qux\", \"qux\"],\n",
    "            [\"one\", \"two\", \"one\", \"two\", \"one\", \"two\", \"one\", \"two\"],\n",
    "        ]\n",
    "        )\n",
    ")\n",
    "\n",
    "index = pd.MultiIndex.from_tuples(tuples, names=[\"first\", \"second\"])\n",
    "\n",
    "df = pd.DataFrame(np.random.randn(8, 2), index=index, columns=[\"A\", \"B\"])\n",
    "\n",
    "d = df[:4]\n",
    "\n",
    "df2"
   ]
  },
  {
   "cell_type": "code",
   "execution_count": 23,
   "metadata": {},
   "outputs": [
    {
     "output_type": "execute_result",
     "data": {
      "text/plain": [
       "first  second   \n",
       "bar    one     A    0.169679\n",
       "               B    0.625449\n",
       "       two     A   -0.678340\n",
       "               B    1.299079\n",
       "baz    one     A   -0.972788\n",
       "               B    1.560854\n",
       "       two     A    1.740383\n",
       "               B   -0.652467\n",
       "dtype: float64"
      ]
     },
     "metadata": {},
     "execution_count": 23
    }
   ],
   "source": [
    "# 橫轉直\n",
    "stacked = df2.stack()\n",
    "\n",
    "stacked"
   ]
  },
  {
   "cell_type": "code",
   "execution_count": 24,
   "metadata": {},
   "outputs": [
    {
     "output_type": "execute_result",
     "data": {
      "text/plain": [
       "                     A         B\n",
       "first second                    \n",
       "bar   one     0.169679  0.625449\n",
       "      two    -0.678340  1.299079\n",
       "baz   one    -0.972788  1.560854\n",
       "      two     1.740383 -0.652467"
      ],
      "text/html": "<div>\n<style scoped>\n    .dataframe tbody tr th:only-of-type {\n        vertical-align: middle;\n    }\n\n    .dataframe tbody tr th {\n        vertical-align: top;\n    }\n\n    .dataframe thead th {\n        text-align: right;\n    }\n</style>\n<table border=\"1\" class=\"dataframe\">\n  <thead>\n    <tr style=\"text-align: right;\">\n      <th></th>\n      <th></th>\n      <th>A</th>\n      <th>B</th>\n    </tr>\n    <tr>\n      <th>first</th>\n      <th>second</th>\n      <th></th>\n      <th></th>\n    </tr>\n  </thead>\n  <tbody>\n    <tr>\n      <th rowspan=\"2\" valign=\"top\">bar</th>\n      <th>one</th>\n      <td>0.169679</td>\n      <td>0.625449</td>\n    </tr>\n    <tr>\n      <th>two</th>\n      <td>-0.678340</td>\n      <td>1.299079</td>\n    </tr>\n    <tr>\n      <th rowspan=\"2\" valign=\"top\">baz</th>\n      <th>one</th>\n      <td>-0.972788</td>\n      <td>1.560854</td>\n    </tr>\n    <tr>\n      <th>two</th>\n      <td>1.740383</td>\n      <td>-0.652467</td>\n    </tr>\n  </tbody>\n</table>\n</div>"
     },
     "metadata": {},
     "execution_count": 24
    }
   ],
   "source": [
    " # 直轉橫\n",
    " # which by default unstacks the last level:\n",
    "\n",
    "stacked.unstack()"
   ]
  },
  {
   "cell_type": "code",
   "execution_count": null,
   "metadata": {},
   "outputs": [],
   "source": [
    "# Pivot tables (樞紐分析表)"
   ]
  },
  {
   "cell_type": "code",
   "execution_count": 25,
   "metadata": {},
   "outputs": [
    {
     "output_type": "execute_result",
     "data": {
      "text/plain": [
       "        A  B    C         D         E\n",
       "0     one  A  foo -0.675492  1.667875\n",
       "1     one  B  foo -0.075578 -1.169302\n",
       "2     two  C  foo  1.517124 -1.405310\n",
       "3   three  A  bar  0.907333 -0.261043\n",
       "4     one  B  bar -0.808359 -0.556177\n",
       "5     one  C  bar -0.753898  0.477656\n",
       "6     two  A  foo  0.254928  0.685282\n",
       "7   three  B  foo -0.661044 -0.030489\n",
       "8     one  C  foo  0.172686 -0.280612\n",
       "9     one  A  bar -0.922041  0.900280\n",
       "10    two  B  bar  1.073465  0.457905\n",
       "11  three  C  bar  1.100280 -0.390527"
      ],
      "text/html": "<div>\n<style scoped>\n    .dataframe tbody tr th:only-of-type {\n        vertical-align: middle;\n    }\n\n    .dataframe tbody tr th {\n        vertical-align: top;\n    }\n\n    .dataframe thead th {\n        text-align: right;\n    }\n</style>\n<table border=\"1\" class=\"dataframe\">\n  <thead>\n    <tr style=\"text-align: right;\">\n      <th></th>\n      <th>A</th>\n      <th>B</th>\n      <th>C</th>\n      <th>D</th>\n      <th>E</th>\n    </tr>\n  </thead>\n  <tbody>\n    <tr>\n      <th>0</th>\n      <td>one</td>\n      <td>A</td>\n      <td>foo</td>\n      <td>-0.675492</td>\n      <td>1.667875</td>\n    </tr>\n    <tr>\n      <th>1</th>\n      <td>one</td>\n      <td>B</td>\n      <td>foo</td>\n      <td>-0.075578</td>\n      <td>-1.169302</td>\n    </tr>\n    <tr>\n      <th>2</th>\n      <td>two</td>\n      <td>C</td>\n      <td>foo</td>\n      <td>1.517124</td>\n      <td>-1.405310</td>\n    </tr>\n    <tr>\n      <th>3</th>\n      <td>three</td>\n      <td>A</td>\n      <td>bar</td>\n      <td>0.907333</td>\n      <td>-0.261043</td>\n    </tr>\n    <tr>\n      <th>4</th>\n      <td>one</td>\n      <td>B</td>\n      <td>bar</td>\n      <td>-0.808359</td>\n      <td>-0.556177</td>\n    </tr>\n    <tr>\n      <th>5</th>\n      <td>one</td>\n      <td>C</td>\n      <td>bar</td>\n      <td>-0.753898</td>\n      <td>0.477656</td>\n    </tr>\n    <tr>\n      <th>6</th>\n      <td>two</td>\n      <td>A</td>\n      <td>foo</td>\n      <td>0.254928</td>\n      <td>0.685282</td>\n    </tr>\n    <tr>\n      <th>7</th>\n      <td>three</td>\n      <td>B</td>\n      <td>foo</td>\n      <td>-0.661044</td>\n      <td>-0.030489</td>\n    </tr>\n    <tr>\n      <th>8</th>\n      <td>one</td>\n      <td>C</td>\n      <td>foo</td>\n      <td>0.172686</td>\n      <td>-0.280612</td>\n    </tr>\n    <tr>\n      <th>9</th>\n      <td>one</td>\n      <td>A</td>\n      <td>bar</td>\n      <td>-0.922041</td>\n      <td>0.900280</td>\n    </tr>\n    <tr>\n      <th>10</th>\n      <td>two</td>\n      <td>B</td>\n      <td>bar</td>\n      <td>1.073465</td>\n      <td>0.457905</td>\n    </tr>\n    <tr>\n      <th>11</th>\n      <td>three</td>\n      <td>C</td>\n      <td>bar</td>\n      <td>1.100280</td>\n      <td>-0.390527</td>\n    </tr>\n  </tbody>\n</table>\n</div>"
     },
     "metadata": {},
     "execution_count": 25
    }
   ],
   "source": [
    "df = pd.DataFrame(\n",
    "    {\n",
    "        \"A\": [\"one\", \"one\", \"two\", \"three\"] * 3,\n",
    "        \"B\": [\"A\", \"B\", \"C\"] * 4,\n",
    "        \"C\": [\"foo\", \"foo\", \"foo\", \"bar\", \"bar\", \"bar\"] * 2,\n",
    "        \"D\": np.random.randn(12),\n",
    "        \"E\": np.random.randn(12),\n",
    "    }\n",
    ")\n",
    "\n",
    "df"
   ]
  },
  {
   "cell_type": "code",
   "execution_count": 28,
   "metadata": {},
   "outputs": [
    {
     "output_type": "execute_result",
     "data": {
      "text/plain": [
       "C             bar       foo\n",
       "A     B                    \n",
       "one   A -0.922041 -0.675492\n",
       "      B -0.808359 -0.075578\n",
       "      C -0.753898  0.172686\n",
       "three A  0.907333       NaN\n",
       "      B       NaN -0.661044\n",
       "      C  1.100280       NaN\n",
       "two   A       NaN  0.254928\n",
       "      B  1.073465       NaN\n",
       "      C       NaN  1.517124"
      ],
      "text/html": "<div>\n<style scoped>\n    .dataframe tbody tr th:only-of-type {\n        vertical-align: middle;\n    }\n\n    .dataframe tbody tr th {\n        vertical-align: top;\n    }\n\n    .dataframe thead th {\n        text-align: right;\n    }\n</style>\n<table border=\"1\" class=\"dataframe\">\n  <thead>\n    <tr style=\"text-align: right;\">\n      <th></th>\n      <th>C</th>\n      <th>bar</th>\n      <th>foo</th>\n    </tr>\n    <tr>\n      <th>A</th>\n      <th>B</th>\n      <th></th>\n      <th></th>\n    </tr>\n  </thead>\n  <tbody>\n    <tr>\n      <th rowspan=\"3\" valign=\"top\">one</th>\n      <th>A</th>\n      <td>-0.922041</td>\n      <td>-0.675492</td>\n    </tr>\n    <tr>\n      <th>B</th>\n      <td>-0.808359</td>\n      <td>-0.075578</td>\n    </tr>\n    <tr>\n      <th>C</th>\n      <td>-0.753898</td>\n      <td>0.172686</td>\n    </tr>\n    <tr>\n      <th rowspan=\"3\" valign=\"top\">three</th>\n      <th>A</th>\n      <td>0.907333</td>\n      <td>NaN</td>\n    </tr>\n    <tr>\n      <th>B</th>\n      <td>NaN</td>\n      <td>-0.661044</td>\n    </tr>\n    <tr>\n      <th>C</th>\n      <td>1.100280</td>\n      <td>NaN</td>\n    </tr>\n    <tr>\n      <th rowspan=\"3\" valign=\"top\">two</th>\n      <th>A</th>\n      <td>NaN</td>\n      <td>0.254928</td>\n    </tr>\n    <tr>\n      <th>B</th>\n      <td>1.073465</td>\n      <td>NaN</td>\n    </tr>\n    <tr>\n      <th>C</th>\n      <td>NaN</td>\n      <td>1.517124</td>\n    </tr>\n  </tbody>\n</table>\n</div>"
     },
     "metadata": {},
     "execution_count": 28
    }
   ],
   "source": [
    "df.pivot_table(index=['A', 'B'], columns='C', values='D') #default: aggfunc='mean'"
   ]
  },
  {
   "cell_type": "code",
   "execution_count": null,
   "metadata": {},
   "outputs": [],
   "source": [
    "# Time series"
   ]
  },
  {
   "cell_type": "code",
   "execution_count": 32,
   "metadata": {},
   "outputs": [
    {
     "output_type": "execute_result",
     "data": {
      "text/plain": [
       "2012-01-01 00:00:00    132\n",
       "2012-01-01 00:00:01     47\n",
       "2012-01-01 00:00:02    140\n",
       "2012-01-01 00:00:03    173\n",
       "2012-01-01 00:00:04     59\n",
       "                      ... \n",
       "2012-01-01 00:01:35    234\n",
       "2012-01-01 00:01:36    156\n",
       "2012-01-01 00:01:37    444\n",
       "2012-01-01 00:01:38    205\n",
       "2012-01-01 00:01:39    143\n",
       "Freq: S, Length: 100, dtype: int32"
      ]
     },
     "metadata": {},
     "execution_count": 32
    }
   ],
   "source": [
    "rng = pd.date_range(\"1/1/2012\", periods=100, freq=\"S\") #生成100筆紀錄，以每1秒為單位\n",
    "\n",
    "ts = pd.Series(np.random.randint(0, 500, len(rng)), index=rng)\n",
    "\n",
    "ts"
   ]
  },
  {
   "cell_type": "code",
   "execution_count": 34,
   "metadata": {},
   "outputs": [
    {
     "output_type": "execute_result",
     "data": {
      "text/plain": [
       "2012-01-01 00:00:00    14823\n",
       "2012-01-01 00:01:00    11108\n",
       "Freq: T, dtype: int32"
      ]
     },
     "metadata": {},
     "execution_count": 34
    }
   ],
   "source": [
    "ts.resample(\"1Min\").sum() #以每1分鐘去sum數值"
   ]
  },
  {
   "cell_type": "code",
   "execution_count": 43,
   "metadata": {},
   "outputs": [
    {
     "output_type": "execute_result",
     "data": {
      "text/plain": [
       "2012-01-31   -0.596553\n",
       "2012-02-29    0.762417\n",
       "2012-03-31   -0.988757\n",
       "2012-04-30   -0.925194\n",
       "2012-05-31    1.150498\n",
       "Freq: M, dtype: float64"
      ]
     },
     "metadata": {},
     "execution_count": 43
    }
   ],
   "source": [
    "rng = pd.date_range(\"1/1/2012\", periods=5, freq=\"M\")\n",
    "\n",
    "ts = pd.Series(np.random.randn(len(rng)), index=rng)\n",
    "\n",
    "ts"
   ]
  },
  {
   "cell_type": "code",
   "execution_count": 49,
   "metadata": {},
   "outputs": [
    {
     "output_type": "execute_result",
     "data": {
      "text/plain": [
       "2012-01   -0.596553\n",
       "2012-02    0.762417\n",
       "2012-03   -0.988757\n",
       "2012-04   -0.925194\n",
       "2012-05    1.150498\n",
       "Freq: M, dtype: float64"
      ]
     },
     "metadata": {},
     "execution_count": 49
    }
   ],
   "source": [
    "ps = ts.to_period(freq = 'M')\n",
    "\n",
    "ps"
   ]
  },
  {
   "cell_type": "code",
   "execution_count": 50,
   "metadata": {},
   "outputs": [
    {
     "output_type": "execute_result",
     "data": {
      "text/plain": [
       "2012-01-01   -0.596553\n",
       "2012-02-01    0.762417\n",
       "2012-03-01   -0.988757\n",
       "2012-04-01   -0.925194\n",
       "2012-05-01    1.150498\n",
       "Freq: MS, dtype: float64"
      ]
     },
     "metadata": {},
     "execution_count": 50
    }
   ],
   "source": [
    "ps.to_timestamp() #會變成每個月的1號"
   ]
  },
  {
   "cell_type": "code",
   "execution_count": null,
   "metadata": {},
   "outputs": [],
   "source": [
    "# Categoricals"
   ]
  },
  {
   "cell_type": "code",
   "execution_count": 65,
   "metadata": {},
   "outputs": [
    {
     "output_type": "execute_result",
     "data": {
      "text/plain": [
       "   id raw_grade\n",
       "0   1         a\n",
       "1   2         b\n",
       "2   3         b\n",
       "3   4         a\n",
       "4   5         a\n",
       "5   6         e"
      ],
      "text/html": "<div>\n<style scoped>\n    .dataframe tbody tr th:only-of-type {\n        vertical-align: middle;\n    }\n\n    .dataframe tbody tr th {\n        vertical-align: top;\n    }\n\n    .dataframe thead th {\n        text-align: right;\n    }\n</style>\n<table border=\"1\" class=\"dataframe\">\n  <thead>\n    <tr style=\"text-align: right;\">\n      <th></th>\n      <th>id</th>\n      <th>raw_grade</th>\n    </tr>\n  </thead>\n  <tbody>\n    <tr>\n      <th>0</th>\n      <td>1</td>\n      <td>a</td>\n    </tr>\n    <tr>\n      <th>1</th>\n      <td>2</td>\n      <td>b</td>\n    </tr>\n    <tr>\n      <th>2</th>\n      <td>3</td>\n      <td>b</td>\n    </tr>\n    <tr>\n      <th>3</th>\n      <td>4</td>\n      <td>a</td>\n    </tr>\n    <tr>\n      <th>4</th>\n      <td>5</td>\n      <td>a</td>\n    </tr>\n    <tr>\n      <th>5</th>\n      <td>6</td>\n      <td>e</td>\n    </tr>\n  </tbody>\n</table>\n</div>"
     },
     "metadata": {},
     "execution_count": 65
    }
   ],
   "source": [
    "df = pd.DataFrame(\n",
    "    {\"id\": [1, 2, 3, 4, 5, 6], \"raw_grade\": [\"a\", \"b\", \"b\", \"a\", \"a\", \"e\"]}\n",
    ")\n",
    "\n",
    "df"
   ]
  },
  {
   "cell_type": "code",
   "execution_count": 66,
   "metadata": {},
   "outputs": [
    {
     "output_type": "stream",
     "name": "stdout",
     "text": [
      "id            int64\nraw_grade    object\ndtype: object\n"
     ]
    },
    {
     "output_type": "execute_result",
     "data": {
      "text/plain": [
       "0    a\n",
       "1    b\n",
       "2    b\n",
       "3    a\n",
       "4    a\n",
       "5    e\n",
       "Name: grade, dtype: category\n",
       "Categories (3, object): ['a', 'b', 'e']"
      ]
     },
     "metadata": {},
     "execution_count": 66
    }
   ],
   "source": [
    "# 將欄位\"raw_grade\"的type轉成category\n",
    "print(df.dtypes)\n",
    "\n",
    "df[\"grade\"] = df[\"raw_grade\"].astype(\"category\")\n",
    "\n",
    "df[\"grade\"]"
   ]
  },
  {
   "cell_type": "code",
   "execution_count": 68,
   "metadata": {},
   "outputs": [
    {
     "output_type": "execute_result",
     "data": {
      "text/plain": [
       "   id raw_grade      grade\n",
       "0   1         a  very good\n",
       "1   2         b       good\n",
       "2   3         b       good\n",
       "3   4         a  very good\n",
       "4   5         a  very good\n",
       "5   6         e   very bad"
      ],
      "text/html": "<div>\n<style scoped>\n    .dataframe tbody tr th:only-of-type {\n        vertical-align: middle;\n    }\n\n    .dataframe tbody tr th {\n        vertical-align: top;\n    }\n\n    .dataframe thead th {\n        text-align: right;\n    }\n</style>\n<table border=\"1\" class=\"dataframe\">\n  <thead>\n    <tr style=\"text-align: right;\">\n      <th></th>\n      <th>id</th>\n      <th>raw_grade</th>\n      <th>grade</th>\n    </tr>\n  </thead>\n  <tbody>\n    <tr>\n      <th>0</th>\n      <td>1</td>\n      <td>a</td>\n      <td>very good</td>\n    </tr>\n    <tr>\n      <th>1</th>\n      <td>2</td>\n      <td>b</td>\n      <td>good</td>\n    </tr>\n    <tr>\n      <th>2</th>\n      <td>3</td>\n      <td>b</td>\n      <td>good</td>\n    </tr>\n    <tr>\n      <th>3</th>\n      <td>4</td>\n      <td>a</td>\n      <td>very good</td>\n    </tr>\n    <tr>\n      <th>4</th>\n      <td>5</td>\n      <td>a</td>\n      <td>very good</td>\n    </tr>\n    <tr>\n      <th>5</th>\n      <td>6</td>\n      <td>e</td>\n      <td>very bad</td>\n    </tr>\n  </tbody>\n</table>\n</div>"
     },
     "metadata": {},
     "execution_count": 68
    }
   ],
   "source": [
    "# 按照level做rename\n",
    "df[\"grade\"].cat.categories = [\"very good\", \"good\", \"very bad\"]\n",
    "\n",
    "df"
   ]
  },
  {
   "cell_type": "code",
   "execution_count": 70,
   "metadata": {},
   "outputs": [
    {
     "output_type": "execute_result",
     "data": {
      "text/plain": [
       "0    very good\n",
       "1         good\n",
       "2         good\n",
       "3    very good\n",
       "4    very good\n",
       "5     very bad\n",
       "Name: grade, dtype: category\n",
       "Categories (5, object): ['very bad', 'bad', 'medium', 'good', 'very good']"
      ]
     },
     "metadata": {},
     "execution_count": 70
    }
   ],
   "source": [
    "df[\"grade\"] = df[\"grade\"].cat.set_categories(\n",
    "    [\"very bad\", \"bad\", \"medium\", \"good\", \"very good\"]\n",
    ")\n",
    "\n",
    "df[\"grade\"]"
   ]
  },
  {
   "cell_type": "code",
   "execution_count": 71,
   "metadata": {},
   "outputs": [
    {
     "output_type": "execute_result",
     "data": {
      "text/plain": [
       "   id raw_grade      grade\n",
       "5   6         e   very bad\n",
       "1   2         b       good\n",
       "2   3         b       good\n",
       "0   1         a  very good\n",
       "3   4         a  very good\n",
       "4   5         a  very good"
      ],
      "text/html": "<div>\n<style scoped>\n    .dataframe tbody tr th:only-of-type {\n        vertical-align: middle;\n    }\n\n    .dataframe tbody tr th {\n        vertical-align: top;\n    }\n\n    .dataframe thead th {\n        text-align: right;\n    }\n</style>\n<table border=\"1\" class=\"dataframe\">\n  <thead>\n    <tr style=\"text-align: right;\">\n      <th></th>\n      <th>id</th>\n      <th>raw_grade</th>\n      <th>grade</th>\n    </tr>\n  </thead>\n  <tbody>\n    <tr>\n      <th>5</th>\n      <td>6</td>\n      <td>e</td>\n      <td>very bad</td>\n    </tr>\n    <tr>\n      <th>1</th>\n      <td>2</td>\n      <td>b</td>\n      <td>good</td>\n    </tr>\n    <tr>\n      <th>2</th>\n      <td>3</td>\n      <td>b</td>\n      <td>good</td>\n    </tr>\n    <tr>\n      <th>0</th>\n      <td>1</td>\n      <td>a</td>\n      <td>very good</td>\n    </tr>\n    <tr>\n      <th>3</th>\n      <td>4</td>\n      <td>a</td>\n      <td>very good</td>\n    </tr>\n    <tr>\n      <th>4</th>\n      <td>5</td>\n      <td>a</td>\n      <td>very good</td>\n    </tr>\n  </tbody>\n</table>\n</div>"
     },
     "metadata": {},
     "execution_count": 71
    }
   ],
   "source": [
    "#根據\"grade\"的level去排序，而不是index\n",
    "df.sort_values(by=\"grade\")"
   ]
  },
  {
   "cell_type": "code",
   "execution_count": 72,
   "metadata": {},
   "outputs": [
    {
     "output_type": "execute_result",
     "data": {
      "text/plain": [
       "grade\n",
       "very bad     1\n",
       "bad          0\n",
       "medium       0\n",
       "good         2\n",
       "very good    3\n",
       "dtype: int64"
      ]
     },
     "metadata": {},
     "execution_count": 72
    }
   ],
   "source": [
    "#統計每個level的數量\n",
    "df.groupby(\"grade\").size()"
   ]
  },
  {
   "cell_type": "code",
   "execution_count": 74,
   "metadata": {},
   "outputs": [
    {
     "output_type": "execute_result",
     "data": {
      "text/plain": [
       "   Unnamed: 0  id raw_grade      grade\n",
       "0           0   1         a  very good\n",
       "1           1   2         b       good\n",
       "2           2   3         b       good\n",
       "3           3   4         a  very good\n",
       "4           4   5         a  very good\n",
       "5           5   6         e   very bad"
      ],
      "text/html": "<div>\n<style scoped>\n    .dataframe tbody tr th:only-of-type {\n        vertical-align: middle;\n    }\n\n    .dataframe tbody tr th {\n        vertical-align: top;\n    }\n\n    .dataframe thead th {\n        text-align: right;\n    }\n</style>\n<table border=\"1\" class=\"dataframe\">\n  <thead>\n    <tr style=\"text-align: right;\">\n      <th></th>\n      <th>Unnamed: 0</th>\n      <th>id</th>\n      <th>raw_grade</th>\n      <th>grade</th>\n    </tr>\n  </thead>\n  <tbody>\n    <tr>\n      <th>0</th>\n      <td>0</td>\n      <td>1</td>\n      <td>a</td>\n      <td>very good</td>\n    </tr>\n    <tr>\n      <th>1</th>\n      <td>1</td>\n      <td>2</td>\n      <td>b</td>\n      <td>good</td>\n    </tr>\n    <tr>\n      <th>2</th>\n      <td>2</td>\n      <td>3</td>\n      <td>b</td>\n      <td>good</td>\n    </tr>\n    <tr>\n      <th>3</th>\n      <td>3</td>\n      <td>4</td>\n      <td>a</td>\n      <td>very good</td>\n    </tr>\n    <tr>\n      <th>4</th>\n      <td>4</td>\n      <td>5</td>\n      <td>a</td>\n      <td>very good</td>\n    </tr>\n    <tr>\n      <th>5</th>\n      <td>5</td>\n      <td>6</td>\n      <td>e</td>\n      <td>very bad</td>\n    </tr>\n  </tbody>\n</table>\n</div>"
     },
     "metadata": {},
     "execution_count": 74
    }
   ],
   "source": [
    "# Getting data in/out\n",
    "\n",
    "df.to_csv(\"foo.csv\")\n",
    "\n",
    "df = pd.read_csv(\"foo.csv\")\n",
    "\n",
    "df"
   ]
  }
 ]
}